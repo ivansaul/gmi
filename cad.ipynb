{
 "cells": [
  {
   "cell_type": "markdown",
   "metadata": {},
   "source": [
    "# **Python CAD**"
   ]
  },
  {
   "cell_type": "markdown",
   "metadata": {},
   "source": [
    "### **Packages**"
   ]
  },
  {
   "cell_type": "code",
   "execution_count": 1,
   "metadata": {},
   "outputs": [],
   "source": [
    "import os\n",
    "import ezdxf\n",
    "import pandas as pd\n",
    "from ezdxf import zoom"
   ]
  },
  {
   "cell_type": "markdown",
   "metadata": {},
   "source": [
    "### **Import data**"
   ]
  },
  {
   "cell_type": "code",
   "execution_count": 2,
   "metadata": {},
   "outputs": [],
   "source": [
    "csv_file='NV-22.MD.CSV'\n",
    "df=pd.read_csv(csv_file, usecols=[0,1,2,3,4], names=[\"est\", \"x\", \"y\", \"z\", \"des\"], header=None)\n",
    "df.dropna(inplace=True)\n",
    "df.drop_duplicates(inplace=True)\n",
    "\n",
    "df['des']=df['des'].str.upper()\n",
    "df['xy']=df.apply(lambda j: (j['x'],j['y']),axis=1)\n",
    "df['xyz']=df.apply(lambda j: (j['x'],j['y'],j['z']),axis=1)\n",
    "#df.head()"
   ]
  },
  {
   "cell_type": "markdown",
   "metadata": {},
   "source": [
    "### **Config DXF file**"
   ]
  },
  {
   "cell_type": "code",
   "execution_count": 3,
   "metadata": {},
   "outputs": [],
   "source": [
    "# Argument setup=True for adding standard linetypes and text styles.\n",
    "doc=ezdxf.new(dxfversion='R2000', setup=True)\n",
    "#doc=ezdxf.new(dxfversion='R12', setup=True)\n",
    "doc.header['$PDMODE'] = 35\n",
    "doc.header['$PDSIZE'] = 0.5\n",
    "\n",
    "#Layes dxfattribs\n",
    "layers_dxfattribs = {\n",
    "    'L' :{'color':1},\n",
    "    'T' :{'color':6},\n",
    "    'P' :{'color':2},\n",
    "    'L1':{'color':4},\n",
    "    'L2':{'color':3},\n",
    "    'L3':{'color':5},\n",
    "    'L4':{'color':40},\n",
    "    'SEC':{'color':7},\n",
    "    'PP':{'color':188},\n",
    "    '2D':{'color':7, 'linetype':'DASHED','lineweight':0.1}\n",
    "\n",
    "}\n",
    "\n",
    "msp=doc.modelspace()"
   ]
  },
  {
   "cell_type": "markdown",
   "metadata": {},
   "source": [
    "### **Sections**"
   ]
  },
  {
   "cell_type": "code",
   "execution_count": 4,
   "metadata": {},
   "outputs": [
    {
     "name": "stdout",
     "output_type": "stream",
     "text": [
      "[0, 13, 30, 48, 65, 80, 107, 122, 138]\n"
     ]
    }
   ],
   "source": [
    "#Select only sections\n",
    "filt = (df['des']=='SEC')\n",
    "df_sec= df[filt][['est','xyz','des']]\n",
    "\n",
    "#find start : end of sections\n",
    "est_list = df_sec['est'].tolist()\n",
    "est_list = [int(x) for x in est_list]\n",
    "\n",
    "idx=[]\n",
    "for i,v in enumerate(est_list):\n",
    "    if v==1:\n",
    "        idx=idx+[i]\n",
    "\n",
    "print(idx)\n",
    "\n",
    "#Build layer 'SEC'\n",
    "if len(idx)>0:\n",
    "    doc.layers.new(name='SEC', dxfattribs=layers_dxfattribs['SEC'])\n",
    "\n",
    "#Draw sections\n",
    "for i in range(len(idx)):\n",
    "    if i < len(idx)-1:\n",
    "        points = df_sec['xyz'][idx[i]:idx[i+1]].tolist()\n",
    "        msp.add_polyline3d(points=points, close=True, dxfattribs={'layer':'SEC'})\n",
    "        \n",
    "    else:\n",
    "        points = df_sec['xyz'][idx[i]:].tolist()\n",
    "        #pprint(points)\n",
    "        msp.add_polyline3d(points=points, close=True, dxfattribs={'layer':'SEC'})"
   ]
  },
  {
   "cell_type": "markdown",
   "metadata": {},
   "source": [
    "### **LTP**"
   ]
  },
  {
   "cell_type": "code",
   "execution_count": 5,
   "metadata": {},
   "outputs": [],
   "source": [
    "#Select only LTP\n",
    "cases = ['L','L1','L2','L3','L4','T','P']\n",
    "filt = df['des'].isin(cases)\n",
    "df_ltp = df.loc[filt,['des','xyz','xy']]\n",
    "df_ltp.reset_index(drop=True, inplace=True)\n",
    "\n",
    "#find start : end of LTP\n",
    "ltp_list = df_ltp['des'].tolist()\n",
    "\n",
    "idx=[]\n",
    "jo = 7777\n",
    "vo = 'any'\n",
    "\n",
    "for i,v in enumerate(ltp_list):\n",
    "    if v!=vo:\n",
    "        idx=idx+[i]\n",
    "        jo=i\n",
    "        vo=v\n",
    "\n",
    "#Build layers\n",
    "for l in df_ltp['des'].unique():\n",
    "    doc.layers.new(name=l, dxfattribs=layers_dxfattribs[l])\n",
    "    if l=='L':\n",
    "        doc.layers.new(name='2D', dxfattribs=layers_dxfattribs['2D'])\n",
    "\n",
    "#Draw LTP\n",
    "for i in range(len(idx)):\n",
    "    if i < len(idx)-1:\n",
    "        points = df_ltp['xyz'][idx[i]:idx[i+1]].tolist()\n",
    "        msp.add_polyline3d(points=points, close=False, dxfattribs={'layer':df_ltp['des'][idx[i]]})\n",
    "        if df_ltp['des'][idx[i]]=='L':\n",
    "            points_2d = df_ltp['xy'][idx[i]:idx[i+1]].tolist()\n",
    "            msp.add_lwpolyline(points=points_2d,dxfattribs={'layer':'2D'})\n",
    "        \n",
    "    else:\n",
    "        points = df_ltp['xyz'][idx[i]:].tolist()\n",
    "        msp.add_polyline3d(points=points, close=False, dxfattribs={'layer':df_ltp['des'][idx[i]]})\n",
    "        if df_ltp['des'][idx[i]]=='L':\n",
    "            points_2d = df_ltp['xy'][idx[i]:].tolist()\n",
    "            msp.add_lwpolyline(points=points_2d,dxfattribs={'layer':'2D'})"
   ]
  },
  {
   "cell_type": "markdown",
   "metadata": {},
   "source": [
    "### **3D Points**"
   ]
  },
  {
   "cell_type": "code",
   "execution_count": 6,
   "metadata": {},
   "outputs": [],
   "source": [
    "#Select only points\n",
    "filt = (df['des']=='PP')\n",
    "df_pp= df[filt][['est','xyz','xy']]\n",
    "pps = df_pp.values.tolist()\n",
    "\n",
    "#Build layer 'PP'\n",
    "if len(pps)>0:\n",
    "    doc.layers.new(name='PP', dxfattribs=layers_dxfattribs['PP'])\n",
    "\n",
    "#Draw 3D points\n",
    "for pp in pps:\n",
    "    msp.add_point(pp[1], dxfattribs={'layer':'PP'})\n",
    "    msp.add_text(pp[0],\n",
    "                dxfattribs={\n",
    "                    'layer':'PP',\n",
    "                    'style': 'LiberationSerif',\n",
    "                    'height': 0.5}\n",
    "                ).set_pos(pp[1], align='LEFT')\n",
    "\n",
    "#Draw 2D Points\n",
    "if 'PP' in doc.layers:\n",
    "    for pp in pps:\n",
    "        msp.add_point(pp[2], dxfattribs={'layer':'2D'})\n",
    "        msp.add_text(pp[0],\n",
    "                    dxfattribs={\n",
    "                        'layer':'2D',\n",
    "                        'style': 'LiberationSerif',\n",
    "                        'height': 0.5}\n",
    "                    ).set_pos(pp[2], align='LEFT')"
   ]
  },
  {
   "cell_type": "markdown",
   "metadata": {},
   "source": [
    "### **Switch 2D layer off**"
   ]
  },
  {
   "cell_type": "code",
   "execution_count": 7,
   "metadata": {},
   "outputs": [],
   "source": [
    "for layer in doc.layers:\n",
    "    if layer.dxf.name == '2D':\n",
    "        layer.off()"
   ]
  },
  {
   "cell_type": "markdown",
   "metadata": {},
   "source": [
    "### **Save as dxf file**"
   ]
  },
  {
   "cell_type": "code",
   "execution_count": 8,
   "metadata": {},
   "outputs": [],
   "source": [
    "zoom.extents(msp)\n",
    "doc.saveas(f'{csv_file[:-4]}.dxf')"
   ]
  },
  {
   "cell_type": "markdown",
   "metadata": {},
   "source": [
    "### **List all csv files**"
   ]
  },
  {
   "cell_type": "code",
   "execution_count": 9,
   "metadata": {},
   "outputs": [
    {
     "data": {
      "text/plain": [
       "['20A.MD.CSV',\n",
       " '8A_1.MD.CSV',\n",
       " 'NV-19A.MD-MOD.CSV',\n",
       " 'NV-19A.MD.CSV',\n",
       " 'NV-20A.MD.CSV',\n",
       " 'NV-22.MD.CSV',\n",
       " 'demo.csv']"
      ]
     },
     "execution_count": 9,
     "metadata": {},
     "output_type": "execute_result"
    }
   ],
   "source": [
    "files = os.listdir()\n",
    "csv_files = []\n",
    "\n",
    "for file in files:\n",
    "    if file.endswith('.CSV') or file.endswith('.csv'):\n",
    "        csv_files.append(file)\n",
    "\n",
    "csv_files"
   ]
  },
  {
   "cell_type": "markdown",
   "metadata": {},
   "source": [
    "### **.ipynb to .py**\n",
    "```bash\n",
    "jupyter nbconvert --to script 'cad.ipynb'\n",
    "```"
   ]
  }
 ],
 "metadata": {
  "interpreter": {
   "hash": "205078fc0425b498c09cbfb6581f1913178c5081fd791ed378bcdb5df6f847ae"
  },
  "kernelspec": {
   "display_name": "Python 3 (ipykernel)",
   "language": "python",
   "name": "python3"
  },
  "language_info": {
   "codemirror_mode": {
    "name": "ipython",
    "version": 3
   },
   "file_extension": ".py",
   "mimetype": "text/x-python",
   "name": "python",
   "nbconvert_exporter": "python",
   "pygments_lexer": "ipython3",
   "version": "3.9.9"
  }
 },
 "nbformat": 4,
 "nbformat_minor": 4
}
