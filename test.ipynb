{
 "cells": [
  {
   "cell_type": "code",
   "execution_count": 47,
   "source": [
    "import pandas as pd\r\n",
    "#df=pd.read_csv('NV-20A.MD.CSV', usecols=[0,1,2,3,4], names=[\"e\", \"x\", \"y\", \"z\", \"d\"], header=None)\r\n",
    "df=pd.read_csv('8A_1.MD.CSV', usecols=[0,1,2,3,4], names=[\"e\", \"x\", \"y\", \"z\", \"d\"], header=None)\r\n",
    "df['xy']=df.apply(lambda j: [j['x'],j['y']],axis=1)\r\n",
    "df['xyz']=df.apply(lambda j: [j['x'],j['y'],j['z']],axis=1)\r\n",
    "df.head()\r\n"
   ],
   "outputs": [
    {
     "output_type": "execute_result",
     "data": {
      "text/plain": [
       "     e            x             y          z    d  \\\n",
       "0  R68  366409.3232  8.710682e+06  3607.9896  NaN   \n",
       "1    1  366406.0007  8.710679e+06  3607.7282    L   \n",
       "2    2  366406.3966  8.710680e+06  3607.7237    L   \n",
       "3    3  366406.5713  8.710681e+06  3607.6628    L   \n",
       "4    4  366406.2757  8.710681e+06  3607.6263    L   \n",
       "\n",
       "                            xy                                     xyz  \n",
       "0  [366409.3232, 8710682.2969]  [366409.3232, 8710682.2969, 3607.9896]  \n",
       "1  [366406.0007, 8710679.1609]  [366406.0007, 8710679.1609, 3607.7282]  \n",
       "2  [366406.3966, 8710680.0715]  [366406.3966, 8710680.0715, 3607.7237]  \n",
       "3  [366406.5713, 8710680.8106]  [366406.5713, 8710680.8106, 3607.6628]  \n",
       "4   [366406.2757, 8710681.132]   [366406.2757, 8710681.132, 3607.6263]  "
      ],
      "text/html": [
       "<div>\n",
       "<style scoped>\n",
       "    .dataframe tbody tr th:only-of-type {\n",
       "        vertical-align: middle;\n",
       "    }\n",
       "\n",
       "    .dataframe tbody tr th {\n",
       "        vertical-align: top;\n",
       "    }\n",
       "\n",
       "    .dataframe thead th {\n",
       "        text-align: right;\n",
       "    }\n",
       "</style>\n",
       "<table border=\"1\" class=\"dataframe\">\n",
       "  <thead>\n",
       "    <tr style=\"text-align: right;\">\n",
       "      <th></th>\n",
       "      <th>e</th>\n",
       "      <th>x</th>\n",
       "      <th>y</th>\n",
       "      <th>z</th>\n",
       "      <th>d</th>\n",
       "      <th>xy</th>\n",
       "      <th>xyz</th>\n",
       "    </tr>\n",
       "  </thead>\n",
       "  <tbody>\n",
       "    <tr>\n",
       "      <th>0</th>\n",
       "      <td>R68</td>\n",
       "      <td>366409.3232</td>\n",
       "      <td>8.710682e+06</td>\n",
       "      <td>3607.9896</td>\n",
       "      <td>NaN</td>\n",
       "      <td>[366409.3232, 8710682.2969]</td>\n",
       "      <td>[366409.3232, 8710682.2969, 3607.9896]</td>\n",
       "    </tr>\n",
       "    <tr>\n",
       "      <th>1</th>\n",
       "      <td>1</td>\n",
       "      <td>366406.0007</td>\n",
       "      <td>8.710679e+06</td>\n",
       "      <td>3607.7282</td>\n",
       "      <td>L</td>\n",
       "      <td>[366406.0007, 8710679.1609]</td>\n",
       "      <td>[366406.0007, 8710679.1609, 3607.7282]</td>\n",
       "    </tr>\n",
       "    <tr>\n",
       "      <th>2</th>\n",
       "      <td>2</td>\n",
       "      <td>366406.3966</td>\n",
       "      <td>8.710680e+06</td>\n",
       "      <td>3607.7237</td>\n",
       "      <td>L</td>\n",
       "      <td>[366406.3966, 8710680.0715]</td>\n",
       "      <td>[366406.3966, 8710680.0715, 3607.7237]</td>\n",
       "    </tr>\n",
       "    <tr>\n",
       "      <th>3</th>\n",
       "      <td>3</td>\n",
       "      <td>366406.5713</td>\n",
       "      <td>8.710681e+06</td>\n",
       "      <td>3607.6628</td>\n",
       "      <td>L</td>\n",
       "      <td>[366406.5713, 8710680.8106]</td>\n",
       "      <td>[366406.5713, 8710680.8106, 3607.6628]</td>\n",
       "    </tr>\n",
       "    <tr>\n",
       "      <th>4</th>\n",
       "      <td>4</td>\n",
       "      <td>366406.2757</td>\n",
       "      <td>8.710681e+06</td>\n",
       "      <td>3607.6263</td>\n",
       "      <td>L</td>\n",
       "      <td>[366406.2757, 8710681.132]</td>\n",
       "      <td>[366406.2757, 8710681.132, 3607.6263]</td>\n",
       "    </tr>\n",
       "  </tbody>\n",
       "</table>\n",
       "</div>"
      ]
     },
     "metadata": {},
     "execution_count": 47
    }
   ],
   "metadata": {}
  },
  {
   "cell_type": "code",
   "execution_count": 39,
   "source": [
    "#Column type\r\n",
    "df.dtypes"
   ],
   "outputs": [
    {
     "output_type": "execute_result",
     "data": {
      "text/plain": [
       "e       object\n",
       "x      float64\n",
       "y      float64\n",
       "z      float64\n",
       "d       object\n",
       "xyz     object\n",
       "dtype: object"
      ]
     },
     "metadata": {},
     "execution_count": 39
    }
   ],
   "metadata": {}
  },
  {
   "cell_type": "code",
   "execution_count": 48,
   "source": [
    "filt=(df['d']=='L')\r\n",
    "df[filt].head()"
   ],
   "outputs": [
    {
     "output_type": "execute_result",
     "data": {
      "text/plain": [
       "   e            x             y          z  d                           xy  \\\n",
       "1  1  366406.0007  8.710679e+06  3607.7282  L  [366406.0007, 8710679.1609]   \n",
       "2  2  366406.3966  8.710680e+06  3607.7237  L  [366406.3966, 8710680.0715]   \n",
       "3  3  366406.5713  8.710681e+06  3607.6628  L  [366406.5713, 8710680.8106]   \n",
       "4  4  366406.2757  8.710681e+06  3607.6263  L   [366406.2757, 8710681.132]   \n",
       "5  5  366406.6168  8.710682e+06  3607.5667  L  [366406.6168, 8710681.7435]   \n",
       "\n",
       "                                      xyz  \n",
       "1  [366406.0007, 8710679.1609, 3607.7282]  \n",
       "2  [366406.3966, 8710680.0715, 3607.7237]  \n",
       "3  [366406.5713, 8710680.8106, 3607.6628]  \n",
       "4   [366406.2757, 8710681.132, 3607.6263]  \n",
       "5  [366406.6168, 8710681.7435, 3607.5667]  "
      ],
      "text/html": [
       "<div>\n",
       "<style scoped>\n",
       "    .dataframe tbody tr th:only-of-type {\n",
       "        vertical-align: middle;\n",
       "    }\n",
       "\n",
       "    .dataframe tbody tr th {\n",
       "        vertical-align: top;\n",
       "    }\n",
       "\n",
       "    .dataframe thead th {\n",
       "        text-align: right;\n",
       "    }\n",
       "</style>\n",
       "<table border=\"1\" class=\"dataframe\">\n",
       "  <thead>\n",
       "    <tr style=\"text-align: right;\">\n",
       "      <th></th>\n",
       "      <th>e</th>\n",
       "      <th>x</th>\n",
       "      <th>y</th>\n",
       "      <th>z</th>\n",
       "      <th>d</th>\n",
       "      <th>xy</th>\n",
       "      <th>xyz</th>\n",
       "    </tr>\n",
       "  </thead>\n",
       "  <tbody>\n",
       "    <tr>\n",
       "      <th>1</th>\n",
       "      <td>1</td>\n",
       "      <td>366406.0007</td>\n",
       "      <td>8.710679e+06</td>\n",
       "      <td>3607.7282</td>\n",
       "      <td>L</td>\n",
       "      <td>[366406.0007, 8710679.1609]</td>\n",
       "      <td>[366406.0007, 8710679.1609, 3607.7282]</td>\n",
       "    </tr>\n",
       "    <tr>\n",
       "      <th>2</th>\n",
       "      <td>2</td>\n",
       "      <td>366406.3966</td>\n",
       "      <td>8.710680e+06</td>\n",
       "      <td>3607.7237</td>\n",
       "      <td>L</td>\n",
       "      <td>[366406.3966, 8710680.0715]</td>\n",
       "      <td>[366406.3966, 8710680.0715, 3607.7237]</td>\n",
       "    </tr>\n",
       "    <tr>\n",
       "      <th>3</th>\n",
       "      <td>3</td>\n",
       "      <td>366406.5713</td>\n",
       "      <td>8.710681e+06</td>\n",
       "      <td>3607.6628</td>\n",
       "      <td>L</td>\n",
       "      <td>[366406.5713, 8710680.8106]</td>\n",
       "      <td>[366406.5713, 8710680.8106, 3607.6628]</td>\n",
       "    </tr>\n",
       "    <tr>\n",
       "      <th>4</th>\n",
       "      <td>4</td>\n",
       "      <td>366406.2757</td>\n",
       "      <td>8.710681e+06</td>\n",
       "      <td>3607.6263</td>\n",
       "      <td>L</td>\n",
       "      <td>[366406.2757, 8710681.132]</td>\n",
       "      <td>[366406.2757, 8710681.132, 3607.6263]</td>\n",
       "    </tr>\n",
       "    <tr>\n",
       "      <th>5</th>\n",
       "      <td>5</td>\n",
       "      <td>366406.6168</td>\n",
       "      <td>8.710682e+06</td>\n",
       "      <td>3607.5667</td>\n",
       "      <td>L</td>\n",
       "      <td>[366406.6168, 8710681.7435]</td>\n",
       "      <td>[366406.6168, 8710681.7435, 3607.5667]</td>\n",
       "    </tr>\n",
       "  </tbody>\n",
       "</table>\n",
       "</div>"
      ]
     },
     "metadata": {},
     "execution_count": 48
    }
   ],
   "metadata": {}
  },
  {
   "cell_type": "code",
   "execution_count": 49,
   "source": [
    "filt=(df['d']=='L')\r\n",
    "dfx=df[filt].head()\r\n",
    "dfx['xyz'].values.tolist()"
   ],
   "outputs": [
    {
     "output_type": "execute_result",
     "data": {
      "text/plain": [
       "[[366406.0007, 8710679.1609, 3607.7282],\n",
       " [366406.3966, 8710680.0715, 3607.7237],\n",
       " [366406.5713, 8710680.8106, 3607.6628],\n",
       " [366406.2757, 8710681.132, 3607.6263],\n",
       " [366406.6168, 8710681.7435, 3607.5667]]"
      ]
     },
     "metadata": {},
     "execution_count": 49
    }
   ],
   "metadata": {}
  },
  {
   "cell_type": "markdown",
   "source": [
    "# **Implementation**"
   ],
   "metadata": {}
  },
  {
   "cell_type": "code",
   "execution_count": 51,
   "source": [
    "import ezdxf\r\n",
    "import pandas as pd\r\n",
    "from ezdxf import zoom\r\n",
    "\r\n",
    "df=pd.read_csv('8A_1.MD.CSV', usecols=[0,1,2,3,4], names=[\"e\", \"x\", \"y\", \"z\", \"d\"], header=None)\r\n",
    "df['xy']=df.apply(lambda j: [j['x'],j['y']],axis=1)\r\n",
    "df['xyz']=df.apply(lambda j: [j['x'],j['y'],j['z']],axis=1)\r\n",
    "\r\n",
    "#doc=ezdxf.new(dxfversion='R2018')\r\n",
    "doc=ezdxf.new()\r\n",
    "msp=doc.modelspace()\r\n",
    "\r\n",
    "#layers\r\n",
    "#doc.layers.new(name='A', dxfattribs={'linetype':'DASHED', 'color':1})\r\n",
    "doc.layers.new(name='L', dxfattribs={'color':1})\r\n",
    "doc.layers.new(name='T', dxfattribs={'color':2})\r\n",
    "doc.layers.new(name='P', dxfattribs={'color':5})\r\n",
    "doc.layers.new(name='2D', dxfattribs={'color':6})\r\n",
    "\r\n",
    "\r\n",
    "for pt in ['L','T','P']:\r\n",
    "    filt = (df['d']==pt)\r\n",
    "    dfx = df[filt]\r\n",
    "    points = dfx['xyz'].values.tolist()\r\n",
    "    msp.add_polyline3d(points=points,dxfattribs={'layer':pt})\r\n",
    "    \r\n",
    "    if pt=='L':\r\n",
    "        points = dfx['xy'].values.tolist()\r\n",
    "        #msp.add_polyline2d(points=points,dxfattribs={'layer':'2D'})\r\n",
    "        msp.add_lwpolyline(points=points,dxfattribs={'layer':'2D'})\r\n",
    "\r\n",
    "zoom.extents(msp)\r\n",
    "doc.saveas('test.dxf')"
   ],
   "outputs": [],
   "metadata": {}
  },
  {
   "cell_type": "markdown",
   "source": [
    "## **Points**"
   ],
   "metadata": {}
  },
  {
   "cell_type": "code",
   "execution_count": 2,
   "source": [
    "import ezdxf\r\n",
    "import pandas as pd\r\n",
    "from ezdxf import zoom\r\n",
    "\r\n",
    "df=pd.read_csv('8A_1.MD.CSV', usecols=[0,1,2,3,4], names=[\"e\", \"x\", \"y\", \"z\", \"d\"], header=None)\r\n",
    "df['xy']=df.apply(lambda j: [j['x'],j['y']],axis=1)\r\n",
    "df['xyz']=df.apply(lambda j: [j['x'],j['y'],j['z']],axis=1)\r\n",
    "\r\n",
    "#doc=ezdxf.new(dxfversion='R2018')\r\n",
    "doc=ezdxf.new()\r\n",
    "msp=doc.modelspace()\r\n",
    "#layers\r\n",
    "#doc.layers.new(name='A', dxfattribs={'linetype':'DASHED', 'color':1})\r\n",
    "doc.layers.new(name='L', dxfattribs={'color':1})\r\n",
    "doc.layers.new(name='T', dxfattribs={'color':2})\r\n",
    "doc.layers.new(name='P', dxfattribs={'color':5})\r\n",
    "doc.layers.new(name='2D', dxfattribs={'color':6})\r\n",
    "doc.layers.new(name='PP', dxfattribs={'color':8})\r\n",
    "\r\n",
    "\r\n",
    "for pt in ['L','T','P','PP']:\r\n",
    "    filt = (df['d']==pt)\r\n",
    "    dfx = df[filt]\r\n",
    "    points = dfx['xyz'].values.tolist()\r\n",
    "    msp.add_polyline3d(points=points,dxfattribs={'layer':pt})\r\n",
    "    \r\n",
    "    if pt=='L':\r\n",
    "        points = dfx['xy'].values.tolist()\r\n",
    "        #msp.add_polyline2d(points=points,dxfattribs={'layer':'2D'})\r\n",
    "        msp.add_lwpolyline(points=points,dxfattribs={'layer':'2D'})\r\n",
    "    '''\r\n",
    "    #To complete\r\n",
    "    if pt=='PP':\r\n",
    "        points = dfx[['e','xyz']].values.tolist()\r\n",
    "        for pp in points:\r\n",
    "            msp.add_point(location=pp[1], dxfattribs={'layer':'PP'})\r\n",
    "            msp.add_text(text=pp[0], insert=pp[1])\r\n",
    "    '''\r\n",
    "zoom.extents(msp)\r\n",
    "doc.saveas('test.dxf')"
   ],
   "outputs": [
    {
     "output_type": "error",
     "ename": "TypeError",
     "evalue": "add_text() got an unexpected keyword argument 'insert'",
     "traceback": [
      "\u001b[1;31m---------------------------------------------------------------------------\u001b[0m",
      "\u001b[1;31mTypeError\u001b[0m                                 Traceback (most recent call last)",
      "\u001b[1;32m~\\AppData\\Local\\Temp/ipykernel_1120/2400012079.py\u001b[0m in \u001b[0;36m<module>\u001b[1;34m\u001b[0m\n\u001b[0;32m     34\u001b[0m         \u001b[1;32mfor\u001b[0m \u001b[0mpp\u001b[0m \u001b[1;32min\u001b[0m \u001b[0mpoints\u001b[0m\u001b[1;33m:\u001b[0m\u001b[1;33m\u001b[0m\u001b[1;33m\u001b[0m\u001b[0m\n\u001b[0;32m     35\u001b[0m             \u001b[0mmsp\u001b[0m\u001b[1;33m.\u001b[0m\u001b[0madd_point\u001b[0m\u001b[1;33m(\u001b[0m\u001b[0mlocation\u001b[0m\u001b[1;33m=\u001b[0m\u001b[0mpp\u001b[0m\u001b[1;33m[\u001b[0m\u001b[1;36m1\u001b[0m\u001b[1;33m]\u001b[0m\u001b[1;33m,\u001b[0m \u001b[0mdxfattribs\u001b[0m\u001b[1;33m=\u001b[0m\u001b[1;33m{\u001b[0m\u001b[1;34m'layer'\u001b[0m\u001b[1;33m:\u001b[0m\u001b[1;34m'PP'\u001b[0m\u001b[1;33m}\u001b[0m\u001b[1;33m)\u001b[0m\u001b[1;33m\u001b[0m\u001b[1;33m\u001b[0m\u001b[0m\n\u001b[1;32m---> 36\u001b[1;33m             \u001b[0mmsp\u001b[0m\u001b[1;33m.\u001b[0m\u001b[0madd_text\u001b[0m\u001b[1;33m(\u001b[0m\u001b[0mtext\u001b[0m\u001b[1;33m=\u001b[0m\u001b[0mpp\u001b[0m\u001b[1;33m[\u001b[0m\u001b[1;36m0\u001b[0m\u001b[1;33m]\u001b[0m\u001b[1;33m,\u001b[0m \u001b[0minsert\u001b[0m\u001b[1;33m=\u001b[0m\u001b[0mpp\u001b[0m\u001b[1;33m[\u001b[0m\u001b[1;36m1\u001b[0m\u001b[1;33m]\u001b[0m\u001b[1;33m)\u001b[0m\u001b[1;33m\u001b[0m\u001b[1;33m\u001b[0m\u001b[0m\n\u001b[0m\u001b[0;32m     37\u001b[0m \u001b[1;33m\u001b[0m\u001b[0m\n\u001b[0;32m     38\u001b[0m \u001b[0mzoom\u001b[0m\u001b[1;33m.\u001b[0m\u001b[0mextents\u001b[0m\u001b[1;33m(\u001b[0m\u001b[0mmsp\u001b[0m\u001b[1;33m)\u001b[0m\u001b[1;33m\u001b[0m\u001b[1;33m\u001b[0m\u001b[0m\n",
      "\u001b[1;31mTypeError\u001b[0m: add_text() got an unexpected keyword argument 'insert'"
     ]
    }
   ],
   "metadata": {}
  },
  {
   "cell_type": "code",
   "execution_count": 10,
   "source": [
    "filt = (df['d']=='PP')\r\n",
    "df[filt][['e','xyz']].values.tolist()\r\n"
   ],
   "outputs": [
    {
     "output_type": "execute_result",
     "data": {
      "text/plain": [
       "[['G', [366409.8863, 8710679.6043, 3609.8101]],\n",
       " ['G1', [366410.2312, 8710679.3544, 3609.495]],\n",
       " ['A4', [366429.3726, 8710704.7626, 3607.3363]],\n",
       " ['A3', [366431.8479, 8710712.1139, 3607.4386]],\n",
       " ['A5', [366426.0982, 8710712.7764, 3607.1036]]]"
      ]
     },
     "metadata": {},
     "execution_count": 10
    }
   ],
   "metadata": {}
  },
  {
   "cell_type": "code",
   "execution_count": null,
   "source": [],
   "outputs": [],
   "metadata": {}
  },
  {
   "cell_type": "code",
   "execution_count": 1,
   "source": [
    "import ezdxf\r\n",
    "import pandas as pd\r\n",
    "from ezdxf import zoom\r\n",
    "#from ezdxf.entities import Point\r\n",
    "\r\n",
    "# Argument setup=True for adding standard linetypes and text styles.\r\n",
    "doc = ezdxf.new('R12',setup=True)\r\n",
    "doc.header['$PDMODE'] = 66\r\n",
    "doc.header['$PDSIZE'] = 0.5\r\n",
    "\r\n",
    "msp=doc.modelspace()\r\n",
    "msp.add_point((5,5,5))\r\n",
    "\r\n",
    "msp.add_text(\"A Simple Text 2D\").set_pos((2, 3), align='MIDDLE_RIGHT')\r\n",
    "\r\n",
    "msp.add_text(\"A Simple Text 3D\").set_pos((2, 3, 10), align='MIDDLE_LEFT')\r\n",
    "\r\n",
    "msp.add_text(\"Text Style Example: Liberation Serif\",\r\n",
    "             dxfattribs={\r\n",
    "                 'style': 'STANDARD',\r\n",
    "                 'height': 0.5}\r\n",
    "             ).set_pos((2, 6), align='LEFT')\r\n",
    "\r\n",
    "zoom.extents(msp)\r\n",
    "doc.saveas('text.dxf')"
   ],
   "outputs": [],
   "metadata": {}
  },
  {
   "cell_type": "code",
   "execution_count": 15,
   "source": [
    "import pandas as pd\r\n",
    "\r\n",
    "df=pd.read_csv('NV-20A.MD.CSV', usecols=[0,1,2,3,4], names=[\"e\", \"x\", \"y\", \"z\", \"d\"], header=None)\r\n",
    "df['xy']=df.apply(lambda j: [j['x'],j['y']],axis=1)\r\n",
    "df['xyz']=df.apply(lambda j: [j['x'],j['y'],j['z']],axis=1)\r\n",
    "df.head(n=10)"
   ],
   "outputs": [
    {
     "output_type": "execute_result",
     "data": {
      "text/plain": [
       "     e            x             y          z    d  \\\n",
       "0  R66  366142.0593  8.710623e+06  3466.3710  NaN   \n",
       "1   GA  366144.0229  8.710628e+06  3465.6303   PP   \n",
       "2  GA1  366139.2620  8.710625e+06  3465.7411   PP   \n",
       "3    1  366137.0889  8.710620e+06  3466.1239    L   \n",
       "4    2  366136.6317  8.710619e+06  3466.2336    L   \n",
       "5    3  366135.8436  8.710618e+06  3466.2815    L   \n",
       "6    4  366135.6406  8.710617e+06  3466.4303    L   \n",
       "7    5  366134.9695  8.710616e+06  3466.5850    L   \n",
       "8    6  366133.5777  8.710614e+06  3466.7425    L   \n",
       "9    7  366132.4266  8.710613e+06  3466.8019    L   \n",
       "\n",
       "                            xy                                     xyz  \n",
       "0  [366142.0593, 8710623.3229]   [366142.0593, 8710623.3229, 3466.371]  \n",
       "1  [366144.0229, 8710628.1206]  [366144.0229, 8710628.1206, 3465.6303]  \n",
       "2   [366139.262, 8710624.8517]   [366139.262, 8710624.8517, 3465.7411]  \n",
       "3   [366137.0889, 8710619.836]   [366137.0889, 8710619.836, 3466.1239]  \n",
       "4  [366136.6317, 8710618.7151]  [366136.6317, 8710618.7151, 3466.2336]  \n",
       "5   [366135.8436, 8710617.902]   [366135.8436, 8710617.902, 3466.2815]  \n",
       "6  [366135.6406, 8710617.1177]  [366135.6406, 8710617.1177, 3466.4303]  \n",
       "7  [366134.9695, 8710615.9378]   [366134.9695, 8710615.9378, 3466.585]  \n",
       "8  [366133.5777, 8710614.2666]  [366133.5777, 8710614.2666, 3466.7425]  \n",
       "9  [366132.4266, 8710612.7128]  [366132.4266, 8710612.7128, 3466.8019]  "
      ],
      "text/html": [
       "<div>\n",
       "<style scoped>\n",
       "    .dataframe tbody tr th:only-of-type {\n",
       "        vertical-align: middle;\n",
       "    }\n",
       "\n",
       "    .dataframe tbody tr th {\n",
       "        vertical-align: top;\n",
       "    }\n",
       "\n",
       "    .dataframe thead th {\n",
       "        text-align: right;\n",
       "    }\n",
       "</style>\n",
       "<table border=\"1\" class=\"dataframe\">\n",
       "  <thead>\n",
       "    <tr style=\"text-align: right;\">\n",
       "      <th></th>\n",
       "      <th>e</th>\n",
       "      <th>x</th>\n",
       "      <th>y</th>\n",
       "      <th>z</th>\n",
       "      <th>d</th>\n",
       "      <th>xy</th>\n",
       "      <th>xyz</th>\n",
       "    </tr>\n",
       "  </thead>\n",
       "  <tbody>\n",
       "    <tr>\n",
       "      <th>0</th>\n",
       "      <td>R66</td>\n",
       "      <td>366142.0593</td>\n",
       "      <td>8.710623e+06</td>\n",
       "      <td>3466.3710</td>\n",
       "      <td>NaN</td>\n",
       "      <td>[366142.0593, 8710623.3229]</td>\n",
       "      <td>[366142.0593, 8710623.3229, 3466.371]</td>\n",
       "    </tr>\n",
       "    <tr>\n",
       "      <th>1</th>\n",
       "      <td>GA</td>\n",
       "      <td>366144.0229</td>\n",
       "      <td>8.710628e+06</td>\n",
       "      <td>3465.6303</td>\n",
       "      <td>PP</td>\n",
       "      <td>[366144.0229, 8710628.1206]</td>\n",
       "      <td>[366144.0229, 8710628.1206, 3465.6303]</td>\n",
       "    </tr>\n",
       "    <tr>\n",
       "      <th>2</th>\n",
       "      <td>GA1</td>\n",
       "      <td>366139.2620</td>\n",
       "      <td>8.710625e+06</td>\n",
       "      <td>3465.7411</td>\n",
       "      <td>PP</td>\n",
       "      <td>[366139.262, 8710624.8517]</td>\n",
       "      <td>[366139.262, 8710624.8517, 3465.7411]</td>\n",
       "    </tr>\n",
       "    <tr>\n",
       "      <th>3</th>\n",
       "      <td>1</td>\n",
       "      <td>366137.0889</td>\n",
       "      <td>8.710620e+06</td>\n",
       "      <td>3466.1239</td>\n",
       "      <td>L</td>\n",
       "      <td>[366137.0889, 8710619.836]</td>\n",
       "      <td>[366137.0889, 8710619.836, 3466.1239]</td>\n",
       "    </tr>\n",
       "    <tr>\n",
       "      <th>4</th>\n",
       "      <td>2</td>\n",
       "      <td>366136.6317</td>\n",
       "      <td>8.710619e+06</td>\n",
       "      <td>3466.2336</td>\n",
       "      <td>L</td>\n",
       "      <td>[366136.6317, 8710618.7151]</td>\n",
       "      <td>[366136.6317, 8710618.7151, 3466.2336]</td>\n",
       "    </tr>\n",
       "    <tr>\n",
       "      <th>5</th>\n",
       "      <td>3</td>\n",
       "      <td>366135.8436</td>\n",
       "      <td>8.710618e+06</td>\n",
       "      <td>3466.2815</td>\n",
       "      <td>L</td>\n",
       "      <td>[366135.8436, 8710617.902]</td>\n",
       "      <td>[366135.8436, 8710617.902, 3466.2815]</td>\n",
       "    </tr>\n",
       "    <tr>\n",
       "      <th>6</th>\n",
       "      <td>4</td>\n",
       "      <td>366135.6406</td>\n",
       "      <td>8.710617e+06</td>\n",
       "      <td>3466.4303</td>\n",
       "      <td>L</td>\n",
       "      <td>[366135.6406, 8710617.1177]</td>\n",
       "      <td>[366135.6406, 8710617.1177, 3466.4303]</td>\n",
       "    </tr>\n",
       "    <tr>\n",
       "      <th>7</th>\n",
       "      <td>5</td>\n",
       "      <td>366134.9695</td>\n",
       "      <td>8.710616e+06</td>\n",
       "      <td>3466.5850</td>\n",
       "      <td>L</td>\n",
       "      <td>[366134.9695, 8710615.9378]</td>\n",
       "      <td>[366134.9695, 8710615.9378, 3466.585]</td>\n",
       "    </tr>\n",
       "    <tr>\n",
       "      <th>8</th>\n",
       "      <td>6</td>\n",
       "      <td>366133.5777</td>\n",
       "      <td>8.710614e+06</td>\n",
       "      <td>3466.7425</td>\n",
       "      <td>L</td>\n",
       "      <td>[366133.5777, 8710614.2666]</td>\n",
       "      <td>[366133.5777, 8710614.2666, 3466.7425]</td>\n",
       "    </tr>\n",
       "    <tr>\n",
       "      <th>9</th>\n",
       "      <td>7</td>\n",
       "      <td>366132.4266</td>\n",
       "      <td>8.710613e+06</td>\n",
       "      <td>3466.8019</td>\n",
       "      <td>L</td>\n",
       "      <td>[366132.4266, 8710612.7128]</td>\n",
       "      <td>[366132.4266, 8710612.7128, 3466.8019]</td>\n",
       "    </tr>\n",
       "  </tbody>\n",
       "</table>\n",
       "</div>"
      ]
     },
     "metadata": {},
     "execution_count": 15
    }
   ],
   "metadata": {}
  },
  {
   "cell_type": "code",
   "execution_count": 20,
   "source": [
    "#Select only points\r\n",
    "filt = (df['d']=='PP')\r\n",
    "dfx= df[filt][['e','xyz']]\r\n",
    "dfx"
   ],
   "outputs": [
    {
     "output_type": "execute_result",
     "data": {
      "text/plain": [
       "     e                                     xyz\n",
       "1   GA  [366144.0229, 8710628.1206, 3465.6303]\n",
       "2  GA1   [366139.262, 8710624.8517, 3465.7411]"
      ],
      "text/html": [
       "<div>\n",
       "<style scoped>\n",
       "    .dataframe tbody tr th:only-of-type {\n",
       "        vertical-align: middle;\n",
       "    }\n",
       "\n",
       "    .dataframe tbody tr th {\n",
       "        vertical-align: top;\n",
       "    }\n",
       "\n",
       "    .dataframe thead th {\n",
       "        text-align: right;\n",
       "    }\n",
       "</style>\n",
       "<table border=\"1\" class=\"dataframe\">\n",
       "  <thead>\n",
       "    <tr style=\"text-align: right;\">\n",
       "      <th></th>\n",
       "      <th>e</th>\n",
       "      <th>xyz</th>\n",
       "    </tr>\n",
       "  </thead>\n",
       "  <tbody>\n",
       "    <tr>\n",
       "      <th>1</th>\n",
       "      <td>GA</td>\n",
       "      <td>[366144.0229, 8710628.1206, 3465.6303]</td>\n",
       "    </tr>\n",
       "    <tr>\n",
       "      <th>2</th>\n",
       "      <td>GA1</td>\n",
       "      <td>[366139.262, 8710624.8517, 3465.7411]</td>\n",
       "    </tr>\n",
       "  </tbody>\n",
       "</table>\n",
       "</div>"
      ]
     },
     "metadata": {},
     "execution_count": 20
    }
   ],
   "metadata": {}
  },
  {
   "cell_type": "code",
   "execution_count": 59,
   "source": [
    "pps = dfx.values.tolist()\r\n",
    "pps"
   ],
   "outputs": [
    {
     "output_type": "execute_result",
     "data": {
      "text/plain": [
       "[['GA', [366144.0229, 8710628.1206, 3465.6303]],\n",
       " ['GA1', [366139.262, 8710624.8517, 3465.7411]]]"
      ]
     },
     "metadata": {},
     "execution_count": 59
    }
   ],
   "metadata": {}
  },
  {
   "cell_type": "code",
   "execution_count": null,
   "source": [
    "for pp in pps:\r\n",
    "    msp.add_point(pp[1])\r\n",
    "    msp.add_text(pp[0],\r\n",
    "                dxfattribs={\r\n",
    "                    'style': 'STANDARD',\r\n",
    "                    'height': 0.5}\r\n",
    "                ).set_pos(pp[1], align='LEFT')"
   ],
   "outputs": [],
   "metadata": {}
  },
  {
   "cell_type": "code",
   "execution_count": 63,
   "source": [
    "import ezdxf\r\n",
    "import pandas as pd\r\n",
    "from ezdxf import zoom\r\n",
    "\r\n",
    "#Read csv file\r\n",
    "df=pd.read_csv('NV-20A.MD.CSV', usecols=[0,1,2,3,4], names=[\"e\", \"x\", \"y\", \"z\", \"d\"], header=None)\r\n",
    "df['xy']=df.apply(lambda j: [j['x'],j['y']],axis=1)\r\n",
    "df['xyz']=df.apply(lambda j: [j['x'],j['y'],j['z']],axis=1)\r\n",
    "\r\n",
    "# Argument setup=True for adding standard linetypes and text styles.\r\n",
    "doc = ezdxf.new('R12',setup=True)\r\n",
    "msp=doc.modelspace()\r\n",
    "\r\n",
    "#Config point mode and size\r\n",
    "doc.header['$PDMODE'] = 35\r\n",
    "doc.header['$PDSIZE'] = 0.5\r\n",
    "\r\n",
    "#Select only points\r\n",
    "filt = (df['d']=='PP')\r\n",
    "df_pp= df[filt][['e','xyz']]\r\n",
    "pps = df_pp.values.tolist()\r\n",
    "\r\n",
    "#Draw points\r\n",
    "for pp in pps:\r\n",
    "    msp.add_point(pp[1])\r\n",
    "    msp.add_text(pp[0],\r\n",
    "                dxfattribs={\r\n",
    "                    'style': 'LiberationSerif',\r\n",
    "                    'height': 0.5}\r\n",
    "                ).set_pos(pp[1], align='LEFT')\r\n",
    "\r\n",
    "zoom.extents(msp)\r\n",
    "doc.saveas('points.dxf')"
   ],
   "outputs": [],
   "metadata": {}
  },
  {
   "cell_type": "code",
   "execution_count": null,
   "source": [],
   "outputs": [],
   "metadata": {}
  },
  {
   "cell_type": "markdown",
   "source": [
    "# **Implementation**"
   ],
   "metadata": {}
  },
  {
   "cell_type": "code",
   "execution_count": 1,
   "source": [
    "import ezdxf\r\n",
    "import pandas as pd\r\n",
    "from ezdxf import zoom"
   ],
   "outputs": [],
   "metadata": {}
  },
  {
   "cell_type": "markdown",
   "source": [
    "## **Load Data**"
   ],
   "metadata": {}
  },
  {
   "cell_type": "code",
   "execution_count": 2,
   "source": [
    "def load_data(file_name):\r\n",
    "    #Read csv file\r\n",
    "    df=pd.read_csv(f'{file_name}.csv', usecols=[0,1,2,3,4], names=[\"est\", \"x\", \"y\", \"z\", \"des\"], header=None)\r\n",
    "    df['xy']=df.apply(lambda j: [j['x'],j['y']],axis=1)\r\n",
    "    df['xyz']=df.apply(lambda j: [j['x'],j['y'],j['z']],axis=1)\r\n",
    "\r\n",
    "    #Save as json file\r\n",
    "    df.to_json(f'{file_name}.json', orient = 'records',indent=4)\r\n",
    "    del df"
   ],
   "outputs": [],
   "metadata": {}
  },
  {
   "cell_type": "markdown",
   "source": [
    "## **Config DXF file**"
   ],
   "metadata": {}
  },
  {
   "cell_type": "code",
   "execution_count": 3,
   "source": [
    "def config_dxf():\r\n",
    "    # Argument setup=True for adding standard linetypes and text styles.\r\n",
    "    doc=ezdxf.new(dxfversion='R2000', setup=True)\r\n",
    "    msp=doc.modelspace()\r\n",
    "\r\n",
    "    #layers\r\n",
    "    #doc.layers.new(name='A', dxfattribs={'linetype':'DASHED', 'color':1})\r\n",
    "    doc.layers.new(name='L', dxfattribs={'color':1})\r\n",
    "    doc.layers.new(name='T', dxfattribs={'color':2})\r\n",
    "    doc.layers.new(name='P', dxfattribs={'color':5})\r\n",
    "    doc.layers.new(name='2D', dxfattribs={'color':6})\r\n",
    "    doc.layers.new(name='PP', dxfattribs={'color':181})\r\n",
    "    doc.layers.new(name='SEC', dxfattribs={'color':7})\r\n",
    "\r\n",
    "    #Config point mode and size\r\n",
    "    doc.header['$PDMODE'] = 35\r\n",
    "    doc.header['$PDSIZE'] = 0.5\r\n",
    "\r\n",
    "    #Save initial dxf file\r\n",
    "    doc.saveas(f'{file_name}.dxf')"
   ],
   "outputs": [],
   "metadata": {}
  },
  {
   "cell_type": "markdown",
   "source": [
    "## **Draw Points**"
   ],
   "metadata": {}
  },
  {
   "cell_type": "code",
   "execution_count": 4,
   "source": [
    "def draw_points(file_name):\r\n",
    "    #Pandas read json file\r\n",
    "    df = pd.read_json(f'{file_name}.json')\r\n",
    "\r\n",
    "    #Load DXF file\r\n",
    "    doc = ezdxf.readfile(f'{file_name}.dxf')\r\n",
    "    msp=doc.modelspace()\r\n",
    "\r\n",
    "    #Select only points\r\n",
    "    filt = (df['des']=='PP')\r\n",
    "    df_pp= df[filt][['est','xyz']]\r\n",
    "    pps = df_pp.values.tolist()\r\n",
    "\r\n",
    "    #Draw points\r\n",
    "    for pp in pps:\r\n",
    "        msp.add_point(pp[1], dxfattribs={'layer':'PP'})\r\n",
    "        msp.add_text(pp[0],\r\n",
    "                    dxfattribs={\r\n",
    "                        'layer': 'PP',\r\n",
    "                        'style': 'LiberationSerif',\r\n",
    "                        'height': 0.5}\r\n",
    "                    ).set_pos(pp[1], align='LEFT')\r\n",
    "\r\n",
    "    zoom.extents(msp)\r\n",
    "    doc.saveas(f'{file_name}.dxf')\r\n",
    "    del df"
   ],
   "outputs": [],
   "metadata": {}
  },
  {
   "cell_type": "markdown",
   "source": [
    "## **Draw LTS**"
   ],
   "metadata": {}
  },
  {
   "cell_type": "code",
   "execution_count": 5,
   "source": [
    "def draw_ltp(file_name):\r\n",
    "    #Pandas read json file\r\n",
    "    df = pd.read_json(f'{file_name}.json')\r\n",
    "\r\n",
    "    #Load DXF file\r\n",
    "    doc = ezdxf.readfile(f'{file_name}.dxf')\r\n",
    "    msp=doc.modelspace()\r\n",
    "\r\n",
    "    for pt in ['L','T','P']:\r\n",
    "        filt = (df['des']==pt)\r\n",
    "        dfx = df[filt]\r\n",
    "        points = dfx['xyz'].values.tolist()\r\n",
    "        msp.add_polyline3d(points=points,dxfattribs={'layer':pt})\r\n",
    "        \r\n",
    "        if pt=='L':\r\n",
    "            points = dfx['xy'].values.tolist()\r\n",
    "            msp.add_lwpolyline(points=points,dxfattribs={'layer':'2D'})\r\n",
    "\r\n",
    "    zoom.extents(msp)\r\n",
    "    doc.saveas(f'{file_name}.dxf')\r\n",
    "    del df, dfx"
   ],
   "outputs": [],
   "metadata": {}
  },
  {
   "cell_type": "markdown",
   "source": [
    "## **Testing**"
   ],
   "metadata": {}
  },
  {
   "cell_type": "code",
   "execution_count": 6,
   "source": [
    "file_name = '8A_1.MD.CSV'\r\n",
    "file_name = 'NV-20A.MD.CSV'\r\n",
    "file_name = file_name[:-4]\r\n",
    "\r\n",
    "load_data(file_name=file_name)\r\n",
    "config_dxf()\r\n",
    "draw_points(file_name=file_name)\r\n",
    "draw_ltp(file_name=file_name)"
   ],
   "outputs": [],
   "metadata": {}
  },
  {
   "cell_type": "markdown",
   "source": [
    "## **Draw Sections**"
   ],
   "metadata": {}
  },
  {
   "cell_type": "code",
   "execution_count": 58,
   "source": [
    "import pandas as pd\r\n",
    "\r\n",
    "file_name='sec'\r\n",
    "df=pd.read_excel(f'{file_name}.xlsx', usecols=[0,1,2,3,4], names=[\"est\", \"x\", \"y\", \"z\", \"des\"], header=None)\r\n",
    "df['xy']=df.apply(lambda j: [j['x'],j['y']],axis=1)\r\n",
    "df['xyz']=df.apply(lambda j: [j['x'],j['y'],j['z']],axis=1)\r\n",
    "df.head()"
   ],
   "outputs": [
    {
     "output_type": "execute_result",
     "data": {
      "text/plain": [
       "   est            x             y          z   des  \\\n",
       "0  R68  366409.3232  8.710682e+06  3607.9896   NaN   \n",
       "1    1       0.0000  0.000000e+00     0.0000  SEC1   \n",
       "2    2       0.0000  5.000000e+00     0.0000  SEC1   \n",
       "3    3       5.0000  5.000000e+00     0.0000  SEC1   \n",
       "4    4       5.0000  0.000000e+00     0.0000  SEC1   \n",
       "\n",
       "                            xy                                     xyz  \n",
       "0  [366409.3232, 8710682.2969]  [366409.3232, 8710682.2969, 3607.9896]  \n",
       "1                   [0.0, 0.0]                         [0.0, 0.0, 0.0]  \n",
       "2                   [0.0, 5.0]                         [0.0, 5.0, 0.0]  \n",
       "3                   [5.0, 5.0]                         [5.0, 5.0, 0.0]  \n",
       "4                   [5.0, 0.0]                         [5.0, 0.0, 0.0]  "
      ],
      "text/html": [
       "<div>\n",
       "<style scoped>\n",
       "    .dataframe tbody tr th:only-of-type {\n",
       "        vertical-align: middle;\n",
       "    }\n",
       "\n",
       "    .dataframe tbody tr th {\n",
       "        vertical-align: top;\n",
       "    }\n",
       "\n",
       "    .dataframe thead th {\n",
       "        text-align: right;\n",
       "    }\n",
       "</style>\n",
       "<table border=\"1\" class=\"dataframe\">\n",
       "  <thead>\n",
       "    <tr style=\"text-align: right;\">\n",
       "      <th></th>\n",
       "      <th>est</th>\n",
       "      <th>x</th>\n",
       "      <th>y</th>\n",
       "      <th>z</th>\n",
       "      <th>des</th>\n",
       "      <th>xy</th>\n",
       "      <th>xyz</th>\n",
       "    </tr>\n",
       "  </thead>\n",
       "  <tbody>\n",
       "    <tr>\n",
       "      <th>0</th>\n",
       "      <td>R68</td>\n",
       "      <td>366409.3232</td>\n",
       "      <td>8.710682e+06</td>\n",
       "      <td>3607.9896</td>\n",
       "      <td>NaN</td>\n",
       "      <td>[366409.3232, 8710682.2969]</td>\n",
       "      <td>[366409.3232, 8710682.2969, 3607.9896]</td>\n",
       "    </tr>\n",
       "    <tr>\n",
       "      <th>1</th>\n",
       "      <td>1</td>\n",
       "      <td>0.0000</td>\n",
       "      <td>0.000000e+00</td>\n",
       "      <td>0.0000</td>\n",
       "      <td>SEC1</td>\n",
       "      <td>[0.0, 0.0]</td>\n",
       "      <td>[0.0, 0.0, 0.0]</td>\n",
       "    </tr>\n",
       "    <tr>\n",
       "      <th>2</th>\n",
       "      <td>2</td>\n",
       "      <td>0.0000</td>\n",
       "      <td>5.000000e+00</td>\n",
       "      <td>0.0000</td>\n",
       "      <td>SEC1</td>\n",
       "      <td>[0.0, 5.0]</td>\n",
       "      <td>[0.0, 5.0, 0.0]</td>\n",
       "    </tr>\n",
       "    <tr>\n",
       "      <th>3</th>\n",
       "      <td>3</td>\n",
       "      <td>5.0000</td>\n",
       "      <td>5.000000e+00</td>\n",
       "      <td>0.0000</td>\n",
       "      <td>SEC1</td>\n",
       "      <td>[5.0, 5.0]</td>\n",
       "      <td>[5.0, 5.0, 0.0]</td>\n",
       "    </tr>\n",
       "    <tr>\n",
       "      <th>4</th>\n",
       "      <td>4</td>\n",
       "      <td>5.0000</td>\n",
       "      <td>0.000000e+00</td>\n",
       "      <td>0.0000</td>\n",
       "      <td>SEC1</td>\n",
       "      <td>[5.0, 0.0]</td>\n",
       "      <td>[5.0, 0.0, 0.0]</td>\n",
       "    </tr>\n",
       "  </tbody>\n",
       "</table>\n",
       "</div>"
      ]
     },
     "metadata": {},
     "execution_count": 58
    }
   ],
   "metadata": {}
  },
  {
   "cell_type": "code",
   "execution_count": 54,
   "source": [
    "grouped=df.groupby('des')\r\n",
    "sections=grouped.groups.keys()\r\n",
    "sections"
   ],
   "outputs": [],
   "metadata": {}
  },
  {
   "cell_type": "code",
   "execution_count": 57,
   "source": [
    "import ezdxf\r\n",
    "import pandas as pd\r\n",
    "from ezdxf import zoom\r\n",
    "\r\n",
    "doc=ezdxf.new(dxfversion='R2000', setup=True)\r\n",
    "msp=doc.modelspace()\r\n",
    "doc.layers.new(name='SEC', dxfattribs={'color':3})\r\n",
    "\r\n",
    "for section in sections:\r\n",
    "    if section.startswith('SEC'):\r\n",
    "        points = grouped.get_group(section)['xyz'].values.tolist()\r\n",
    "        print(points)\r\n",
    "        msp.add_polyline3d(points=points, close=True, dxfattribs={'layer':'SEC'})\r\n",
    "\r\n",
    "zoom.extents(msp)\r\n",
    "doc.saveas('sec.dxf')"
   ],
   "outputs": [
    {
     "output_type": "stream",
     "name": "stdout",
     "text": [
      "[[0.0, 0.0, 0.0], [0.0, 5.0, 0.0], [5.0, 5.0, 0.0], [5.0, 0.0, 0.0]]\n",
      "[[10.0, 0.0, 0.0], [10.0, 5.0, 0.0], [15.0, 5.0, 0.0], [15.0, 0.0, 0.0]]\n",
      "[[20.0, 0.0, 0.0], [20.0, 5.0, 0.0], [25.0, 5.0, 0.0], [25.0, 0.0, 0.0]]\n"
     ]
    }
   ],
   "metadata": {}
  }
 ],
 "metadata": {
  "orig_nbformat": 4,
  "language_info": {
   "name": "python",
   "version": "3.8.10",
   "mimetype": "text/x-python",
   "codemirror_mode": {
    "name": "ipython",
    "version": 3
   },
   "pygments_lexer": "ipython3",
   "nbconvert_exporter": "python",
   "file_extension": ".py"
  },
  "kernelspec": {
   "name": "python3",
   "display_name": "Python 3.8.10 64-bit ('venv')"
  },
  "interpreter": {
   "hash": "5148633f607809c18e87c69b3844db527545fce5fb8218de4214a13a252ffd89"
  }
 },
 "nbformat": 4,
 "nbformat_minor": 2
}