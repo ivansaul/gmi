{
 "cells": [
  {
   "cell_type": "code",
   "execution_count": 47,
   "source": [
    "import pandas as pd\r\n",
    "#df=pd.read_csv('NV-20A.MD.CSV', usecols=[0,1,2,3,4], names=[\"e\", \"x\", \"y\", \"z\", \"d\"], header=None)\r\n",
    "df=pd.read_csv('8A_1.MD.CSV', usecols=[0,1,2,3,4], names=[\"e\", \"x\", \"y\", \"z\", \"d\"], header=None)\r\n",
    "df['xy']=df.apply(lambda j: [j['x'],j['y']],axis=1)\r\n",
    "df['xyz']=df.apply(lambda j: [j['x'],j['y'],j['z']],axis=1)\r\n",
    "df.head()\r\n"
   ],
   "outputs": [
    {
     "output_type": "execute_result",
     "data": {
      "text/plain": [
       "     e            x             y          z    d  \\\n",
       "0  R68  366409.3232  8.710682e+06  3607.9896  NaN   \n",
       "1    1  366406.0007  8.710679e+06  3607.7282    L   \n",
       "2    2  366406.3966  8.710680e+06  3607.7237    L   \n",
       "3    3  366406.5713  8.710681e+06  3607.6628    L   \n",
       "4    4  366406.2757  8.710681e+06  3607.6263    L   \n",
       "\n",
       "                            xy                                     xyz  \n",
       "0  [366409.3232, 8710682.2969]  [366409.3232, 8710682.2969, 3607.9896]  \n",
       "1  [366406.0007, 8710679.1609]  [366406.0007, 8710679.1609, 3607.7282]  \n",
       "2  [366406.3966, 8710680.0715]  [366406.3966, 8710680.0715, 3607.7237]  \n",
       "3  [366406.5713, 8710680.8106]  [366406.5713, 8710680.8106, 3607.6628]  \n",
       "4   [366406.2757, 8710681.132]   [366406.2757, 8710681.132, 3607.6263]  "
      ],
      "text/html": [
       "<div>\n",
       "<style scoped>\n",
       "    .dataframe tbody tr th:only-of-type {\n",
       "        vertical-align: middle;\n",
       "    }\n",
       "\n",
       "    .dataframe tbody tr th {\n",
       "        vertical-align: top;\n",
       "    }\n",
       "\n",
       "    .dataframe thead th {\n",
       "        text-align: right;\n",
       "    }\n",
       "</style>\n",
       "<table border=\"1\" class=\"dataframe\">\n",
       "  <thead>\n",
       "    <tr style=\"text-align: right;\">\n",
       "      <th></th>\n",
       "      <th>e</th>\n",
       "      <th>x</th>\n",
       "      <th>y</th>\n",
       "      <th>z</th>\n",
       "      <th>d</th>\n",
       "      <th>xy</th>\n",
       "      <th>xyz</th>\n",
       "    </tr>\n",
       "  </thead>\n",
       "  <tbody>\n",
       "    <tr>\n",
       "      <th>0</th>\n",
       "      <td>R68</td>\n",
       "      <td>366409.3232</td>\n",
       "      <td>8.710682e+06</td>\n",
       "      <td>3607.9896</td>\n",
       "      <td>NaN</td>\n",
       "      <td>[366409.3232, 8710682.2969]</td>\n",
       "      <td>[366409.3232, 8710682.2969, 3607.9896]</td>\n",
       "    </tr>\n",
       "    <tr>\n",
       "      <th>1</th>\n",
       "      <td>1</td>\n",
       "      <td>366406.0007</td>\n",
       "      <td>8.710679e+06</td>\n",
       "      <td>3607.7282</td>\n",
       "      <td>L</td>\n",
       "      <td>[366406.0007, 8710679.1609]</td>\n",
       "      <td>[366406.0007, 8710679.1609, 3607.7282]</td>\n",
       "    </tr>\n",
       "    <tr>\n",
       "      <th>2</th>\n",
       "      <td>2</td>\n",
       "      <td>366406.3966</td>\n",
       "      <td>8.710680e+06</td>\n",
       "      <td>3607.7237</td>\n",
       "      <td>L</td>\n",
       "      <td>[366406.3966, 8710680.0715]</td>\n",
       "      <td>[366406.3966, 8710680.0715, 3607.7237]</td>\n",
       "    </tr>\n",
       "    <tr>\n",
       "      <th>3</th>\n",
       "      <td>3</td>\n",
       "      <td>366406.5713</td>\n",
       "      <td>8.710681e+06</td>\n",
       "      <td>3607.6628</td>\n",
       "      <td>L</td>\n",
       "      <td>[366406.5713, 8710680.8106]</td>\n",
       "      <td>[366406.5713, 8710680.8106, 3607.6628]</td>\n",
       "    </tr>\n",
       "    <tr>\n",
       "      <th>4</th>\n",
       "      <td>4</td>\n",
       "      <td>366406.2757</td>\n",
       "      <td>8.710681e+06</td>\n",
       "      <td>3607.6263</td>\n",
       "      <td>L</td>\n",
       "      <td>[366406.2757, 8710681.132]</td>\n",
       "      <td>[366406.2757, 8710681.132, 3607.6263]</td>\n",
       "    </tr>\n",
       "  </tbody>\n",
       "</table>\n",
       "</div>"
      ]
     },
     "metadata": {},
     "execution_count": 47
    }
   ],
   "metadata": {}
  },
  {
   "cell_type": "code",
   "execution_count": 39,
   "source": [
    "#Column type\r\n",
    "df.dtypes"
   ],
   "outputs": [
    {
     "output_type": "execute_result",
     "data": {
      "text/plain": [
       "e       object\n",
       "x      float64\n",
       "y      float64\n",
       "z      float64\n",
       "d       object\n",
       "xyz     object\n",
       "dtype: object"
      ]
     },
     "metadata": {},
     "execution_count": 39
    }
   ],
   "metadata": {}
  },
  {
   "cell_type": "code",
   "execution_count": 48,
   "source": [
    "filt=(df['d']=='L')\r\n",
    "df[filt].head()"
   ],
   "outputs": [
    {
     "output_type": "execute_result",
     "data": {
      "text/plain": [
       "   e            x             y          z  d                           xy  \\\n",
       "1  1  366406.0007  8.710679e+06  3607.7282  L  [366406.0007, 8710679.1609]   \n",
       "2  2  366406.3966  8.710680e+06  3607.7237  L  [366406.3966, 8710680.0715]   \n",
       "3  3  366406.5713  8.710681e+06  3607.6628  L  [366406.5713, 8710680.8106]   \n",
       "4  4  366406.2757  8.710681e+06  3607.6263  L   [366406.2757, 8710681.132]   \n",
       "5  5  366406.6168  8.710682e+06  3607.5667  L  [366406.6168, 8710681.7435]   \n",
       "\n",
       "                                      xyz  \n",
       "1  [366406.0007, 8710679.1609, 3607.7282]  \n",
       "2  [366406.3966, 8710680.0715, 3607.7237]  \n",
       "3  [366406.5713, 8710680.8106, 3607.6628]  \n",
       "4   [366406.2757, 8710681.132, 3607.6263]  \n",
       "5  [366406.6168, 8710681.7435, 3607.5667]  "
      ],
      "text/html": [
       "<div>\n",
       "<style scoped>\n",
       "    .dataframe tbody tr th:only-of-type {\n",
       "        vertical-align: middle;\n",
       "    }\n",
       "\n",
       "    .dataframe tbody tr th {\n",
       "        vertical-align: top;\n",
       "    }\n",
       "\n",
       "    .dataframe thead th {\n",
       "        text-align: right;\n",
       "    }\n",
       "</style>\n",
       "<table border=\"1\" class=\"dataframe\">\n",
       "  <thead>\n",
       "    <tr style=\"text-align: right;\">\n",
       "      <th></th>\n",
       "      <th>e</th>\n",
       "      <th>x</th>\n",
       "      <th>y</th>\n",
       "      <th>z</th>\n",
       "      <th>d</th>\n",
       "      <th>xy</th>\n",
       "      <th>xyz</th>\n",
       "    </tr>\n",
       "  </thead>\n",
       "  <tbody>\n",
       "    <tr>\n",
       "      <th>1</th>\n",
       "      <td>1</td>\n",
       "      <td>366406.0007</td>\n",
       "      <td>8.710679e+06</td>\n",
       "      <td>3607.7282</td>\n",
       "      <td>L</td>\n",
       "      <td>[366406.0007, 8710679.1609]</td>\n",
       "      <td>[366406.0007, 8710679.1609, 3607.7282]</td>\n",
       "    </tr>\n",
       "    <tr>\n",
       "      <th>2</th>\n",
       "      <td>2</td>\n",
       "      <td>366406.3966</td>\n",
       "      <td>8.710680e+06</td>\n",
       "      <td>3607.7237</td>\n",
       "      <td>L</td>\n",
       "      <td>[366406.3966, 8710680.0715]</td>\n",
       "      <td>[366406.3966, 8710680.0715, 3607.7237]</td>\n",
       "    </tr>\n",
       "    <tr>\n",
       "      <th>3</th>\n",
       "      <td>3</td>\n",
       "      <td>366406.5713</td>\n",
       "      <td>8.710681e+06</td>\n",
       "      <td>3607.6628</td>\n",
       "      <td>L</td>\n",
       "      <td>[366406.5713, 8710680.8106]</td>\n",
       "      <td>[366406.5713, 8710680.8106, 3607.6628]</td>\n",
       "    </tr>\n",
       "    <tr>\n",
       "      <th>4</th>\n",
       "      <td>4</td>\n",
       "      <td>366406.2757</td>\n",
       "      <td>8.710681e+06</td>\n",
       "      <td>3607.6263</td>\n",
       "      <td>L</td>\n",
       "      <td>[366406.2757, 8710681.132]</td>\n",
       "      <td>[366406.2757, 8710681.132, 3607.6263]</td>\n",
       "    </tr>\n",
       "    <tr>\n",
       "      <th>5</th>\n",
       "      <td>5</td>\n",
       "      <td>366406.6168</td>\n",
       "      <td>8.710682e+06</td>\n",
       "      <td>3607.5667</td>\n",
       "      <td>L</td>\n",
       "      <td>[366406.6168, 8710681.7435]</td>\n",
       "      <td>[366406.6168, 8710681.7435, 3607.5667]</td>\n",
       "    </tr>\n",
       "  </tbody>\n",
       "</table>\n",
       "</div>"
      ]
     },
     "metadata": {},
     "execution_count": 48
    }
   ],
   "metadata": {}
  },
  {
   "cell_type": "code",
   "execution_count": 49,
   "source": [
    "filt=(df['d']=='L')\r\n",
    "dfx=df[filt].head()\r\n",
    "dfx['xyz'].values.tolist()"
   ],
   "outputs": [
    {
     "output_type": "execute_result",
     "data": {
      "text/plain": [
       "[[366406.0007, 8710679.1609, 3607.7282],\n",
       " [366406.3966, 8710680.0715, 3607.7237],\n",
       " [366406.5713, 8710680.8106, 3607.6628],\n",
       " [366406.2757, 8710681.132, 3607.6263],\n",
       " [366406.6168, 8710681.7435, 3607.5667]]"
      ]
     },
     "metadata": {},
     "execution_count": 49
    }
   ],
   "metadata": {}
  },
  {
   "cell_type": "markdown",
   "source": [
    "# **Implementation**"
   ],
   "metadata": {}
  },
  {
   "cell_type": "code",
   "execution_count": 51,
   "source": [
    "import ezdxf\r\n",
    "import pandas as pd\r\n",
    "from ezdxf import zoom\r\n",
    "\r\n",
    "df=pd.read_csv('8A_1.MD.CSV', usecols=[0,1,2,3,4], names=[\"e\", \"x\", \"y\", \"z\", \"d\"], header=None)\r\n",
    "df['xy']=df.apply(lambda j: [j['x'],j['y']],axis=1)\r\n",
    "df['xyz']=df.apply(lambda j: [j['x'],j['y'],j['z']],axis=1)\r\n",
    "\r\n",
    "#doc=ezdxf.new(dxfversion='R2018')\r\n",
    "doc=ezdxf.new()\r\n",
    "msp=doc.modelspace()\r\n",
    "\r\n",
    "#layers\r\n",
    "#doc.layers.new(name='A', dxfattribs={'linetype':'DASHED', 'color':1})\r\n",
    "doc.layers.new(name='L', dxfattribs={'color':1})\r\n",
    "doc.layers.new(name='T', dxfattribs={'color':2})\r\n",
    "doc.layers.new(name='P', dxfattribs={'color':5})\r\n",
    "doc.layers.new(name='2D', dxfattribs={'color':6})\r\n",
    "\r\n",
    "\r\n",
    "for pt in ['L','T','P']:\r\n",
    "    filt = (df['d']==pt)\r\n",
    "    dfx = df[filt]\r\n",
    "    points = dfx['xyz'].values.tolist()\r\n",
    "    msp.add_polyline3d(points=points,dxfattribs={'layer':pt})\r\n",
    "    \r\n",
    "    if pt=='L':\r\n",
    "        points = dfx['xy'].values.tolist()\r\n",
    "        #msp.add_polyline2d(points=points,dxfattribs={'layer':'2D'})\r\n",
    "        msp.add_lwpolyline(points=points,dxfattribs={'layer':'2D'})\r\n",
    "\r\n",
    "zoom.extents(msp)\r\n",
    "doc.saveas('test.dxf')"
   ],
   "outputs": [],
   "metadata": {}
  },
  {
   "cell_type": "markdown",
   "source": [
    "## **Points**"
   ],
   "metadata": {}
  },
  {
   "cell_type": "code",
   "execution_count": 2,
   "source": [
    "import ezdxf\r\n",
    "import pandas as pd\r\n",
    "from ezdxf import zoom\r\n",
    "\r\n",
    "df=pd.read_csv('8A_1.MD.CSV', usecols=[0,1,2,3,4], names=[\"e\", \"x\", \"y\", \"z\", \"d\"], header=None)\r\n",
    "df['xy']=df.apply(lambda j: [j['x'],j['y']],axis=1)\r\n",
    "df['xyz']=df.apply(lambda j: [j['x'],j['y'],j['z']],axis=1)\r\n",
    "\r\n",
    "#doc=ezdxf.new(dxfversion='R2018')\r\n",
    "doc=ezdxf.new()\r\n",
    "msp=doc.modelspace()\r\n",
    "#layers\r\n",
    "#doc.layers.new(name='A', dxfattribs={'linetype':'DASHED', 'color':1})\r\n",
    "doc.layers.new(name='L', dxfattribs={'color':1})\r\n",
    "doc.layers.new(name='T', dxfattribs={'color':2})\r\n",
    "doc.layers.new(name='P', dxfattribs={'color':5})\r\n",
    "doc.layers.new(name='2D', dxfattribs={'color':6})\r\n",
    "doc.layers.new(name='PP', dxfattribs={'color':8})\r\n",
    "\r\n",
    "\r\n",
    "for pt in ['L','T','P','PP']:\r\n",
    "    filt = (df['d']==pt)\r\n",
    "    dfx = df[filt]\r\n",
    "    points = dfx['xyz'].values.tolist()\r\n",
    "    msp.add_polyline3d(points=points,dxfattribs={'layer':pt})\r\n",
    "    \r\n",
    "    if pt=='L':\r\n",
    "        points = dfx['xy'].values.tolist()\r\n",
    "        #msp.add_polyline2d(points=points,dxfattribs={'layer':'2D'})\r\n",
    "        msp.add_lwpolyline(points=points,dxfattribs={'layer':'2D'})\r\n",
    "    '''\r\n",
    "    #To complete\r\n",
    "    if pt=='PP':\r\n",
    "        points = dfx[['e','xyz']].values.tolist()\r\n",
    "        for pp in points:\r\n",
    "            msp.add_point(location=pp[1], dxfattribs={'layer':'PP'})\r\n",
    "            msp.add_text(text=pp[0], insert=pp[1])\r\n",
    "    '''\r\n",
    "zoom.extents(msp)\r\n",
    "doc.saveas('test.dxf')"
   ],
   "outputs": [
    {
     "output_type": "error",
     "ename": "TypeError",
     "evalue": "add_text() got an unexpected keyword argument 'insert'",
     "traceback": [
      "\u001b[1;31m---------------------------------------------------------------------------\u001b[0m",
      "\u001b[1;31mTypeError\u001b[0m                                 Traceback (most recent call last)",
      "\u001b[1;32m~\\AppData\\Local\\Temp/ipykernel_1120/2400012079.py\u001b[0m in \u001b[0;36m<module>\u001b[1;34m\u001b[0m\n\u001b[0;32m     34\u001b[0m         \u001b[1;32mfor\u001b[0m \u001b[0mpp\u001b[0m \u001b[1;32min\u001b[0m \u001b[0mpoints\u001b[0m\u001b[1;33m:\u001b[0m\u001b[1;33m\u001b[0m\u001b[1;33m\u001b[0m\u001b[0m\n\u001b[0;32m     35\u001b[0m             \u001b[0mmsp\u001b[0m\u001b[1;33m.\u001b[0m\u001b[0madd_point\u001b[0m\u001b[1;33m(\u001b[0m\u001b[0mlocation\u001b[0m\u001b[1;33m=\u001b[0m\u001b[0mpp\u001b[0m\u001b[1;33m[\u001b[0m\u001b[1;36m1\u001b[0m\u001b[1;33m]\u001b[0m\u001b[1;33m,\u001b[0m \u001b[0mdxfattribs\u001b[0m\u001b[1;33m=\u001b[0m\u001b[1;33m{\u001b[0m\u001b[1;34m'layer'\u001b[0m\u001b[1;33m:\u001b[0m\u001b[1;34m'PP'\u001b[0m\u001b[1;33m}\u001b[0m\u001b[1;33m)\u001b[0m\u001b[1;33m\u001b[0m\u001b[1;33m\u001b[0m\u001b[0m\n\u001b[1;32m---> 36\u001b[1;33m             \u001b[0mmsp\u001b[0m\u001b[1;33m.\u001b[0m\u001b[0madd_text\u001b[0m\u001b[1;33m(\u001b[0m\u001b[0mtext\u001b[0m\u001b[1;33m=\u001b[0m\u001b[0mpp\u001b[0m\u001b[1;33m[\u001b[0m\u001b[1;36m0\u001b[0m\u001b[1;33m]\u001b[0m\u001b[1;33m,\u001b[0m \u001b[0minsert\u001b[0m\u001b[1;33m=\u001b[0m\u001b[0mpp\u001b[0m\u001b[1;33m[\u001b[0m\u001b[1;36m1\u001b[0m\u001b[1;33m]\u001b[0m\u001b[1;33m)\u001b[0m\u001b[1;33m\u001b[0m\u001b[1;33m\u001b[0m\u001b[0m\n\u001b[0m\u001b[0;32m     37\u001b[0m \u001b[1;33m\u001b[0m\u001b[0m\n\u001b[0;32m     38\u001b[0m \u001b[0mzoom\u001b[0m\u001b[1;33m.\u001b[0m\u001b[0mextents\u001b[0m\u001b[1;33m(\u001b[0m\u001b[0mmsp\u001b[0m\u001b[1;33m)\u001b[0m\u001b[1;33m\u001b[0m\u001b[1;33m\u001b[0m\u001b[0m\n",
      "\u001b[1;31mTypeError\u001b[0m: add_text() got an unexpected keyword argument 'insert'"
     ]
    }
   ],
   "metadata": {}
  },
  {
   "cell_type": "code",
   "execution_count": 10,
   "source": [
    "filt = (df['d']=='PP')\r\n",
    "df[filt][['e','xyz']].values.tolist()\r\n"
   ],
   "outputs": [
    {
     "output_type": "execute_result",
     "data": {
      "text/plain": [
       "[['G', [366409.8863, 8710679.6043, 3609.8101]],\n",
       " ['G1', [366410.2312, 8710679.3544, 3609.495]],\n",
       " ['A4', [366429.3726, 8710704.7626, 3607.3363]],\n",
       " ['A3', [366431.8479, 8710712.1139, 3607.4386]],\n",
       " ['A5', [366426.0982, 8710712.7764, 3607.1036]]]"
      ]
     },
     "metadata": {},
     "execution_count": 10
    }
   ],
   "metadata": {}
  }
 ],
 "metadata": {
  "orig_nbformat": 4,
  "language_info": {
   "name": "python",
   "version": "3.8.10",
   "mimetype": "text/x-python",
   "codemirror_mode": {
    "name": "ipython",
    "version": 3
   },
   "pygments_lexer": "ipython3",
   "nbconvert_exporter": "python",
   "file_extension": ".py"
  },
  "kernelspec": {
   "name": "python3",
   "display_name": "Python 3.8.10 64-bit ('venv')"
  },
  "interpreter": {
   "hash": "3b09a7a22a13deb18365eb327c9a8b40066d926e9ac9ffc53bfacca8e40f3efb"
  }
 },
 "nbformat": 4,
 "nbformat_minor": 2
}