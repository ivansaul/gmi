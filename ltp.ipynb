{
 "cells": [
  {
   "cell_type": "markdown",
   "metadata": {},
   "source": [
    "# **Draw LTP**"
   ]
  },
  {
   "cell_type": "code",
   "execution_count": 40,
   "metadata": {},
   "outputs": [
    {
     "data": {
      "text/html": [
       "<div>\n",
       "<style scoped>\n",
       "    .dataframe tbody tr th:only-of-type {\n",
       "        vertical-align: middle;\n",
       "    }\n",
       "\n",
       "    .dataframe tbody tr th {\n",
       "        vertical-align: top;\n",
       "    }\n",
       "\n",
       "    .dataframe thead th {\n",
       "        text-align: right;\n",
       "    }\n",
       "</style>\n",
       "<table border=\"1\" class=\"dataframe\">\n",
       "  <thead>\n",
       "    <tr style=\"text-align: right;\">\n",
       "      <th></th>\n",
       "      <th>est</th>\n",
       "      <th>x</th>\n",
       "      <th>y</th>\n",
       "      <th>z</th>\n",
       "      <th>des</th>\n",
       "      <th>xy</th>\n",
       "      <th>xyz</th>\n",
       "    </tr>\n",
       "  </thead>\n",
       "  <tbody>\n",
       "    <tr>\n",
       "      <th>0</th>\n",
       "      <td>R17</td>\n",
       "      <td>366227.7474</td>\n",
       "      <td>8.710953e+06</td>\n",
       "      <td>3508.3157</td>\n",
       "      <td>PP</td>\n",
       "      <td>(366227.7474, 8710952.944299998)</td>\n",
       "      <td>(366227.7474, 8710952.944299998, 3508.3157)</td>\n",
       "    </tr>\n",
       "    <tr>\n",
       "      <th>1</th>\n",
       "      <td>1</td>\n",
       "      <td>366232.5783</td>\n",
       "      <td>8.710981e+06</td>\n",
       "      <td>3508.6108</td>\n",
       "      <td>L</td>\n",
       "      <td>(366232.5783, 8710980.8992)</td>\n",
       "      <td>(366232.5783, 8710980.8992, 3508.6108)</td>\n",
       "    </tr>\n",
       "    <tr>\n",
       "      <th>2</th>\n",
       "      <td>2</td>\n",
       "      <td>366232.5687</td>\n",
       "      <td>8.710979e+06</td>\n",
       "      <td>3508.6680</td>\n",
       "      <td>L</td>\n",
       "      <td>(366232.5687, 8710979.0821)</td>\n",
       "      <td>(366232.5687, 8710979.0821, 3508.668)</td>\n",
       "    </tr>\n",
       "    <tr>\n",
       "      <th>3</th>\n",
       "      <td>3</td>\n",
       "      <td>366232.4063</td>\n",
       "      <td>8.710977e+06</td>\n",
       "      <td>3508.6655</td>\n",
       "      <td>L</td>\n",
       "      <td>(366232.4063, 8710977.0599)</td>\n",
       "      <td>(366232.4063, 8710977.0599, 3508.6655)</td>\n",
       "    </tr>\n",
       "    <tr>\n",
       "      <th>4</th>\n",
       "      <td>4</td>\n",
       "      <td>366232.4180</td>\n",
       "      <td>8.710976e+06</td>\n",
       "      <td>3508.6551</td>\n",
       "      <td>L</td>\n",
       "      <td>(366232.418, 8710976.3112)</td>\n",
       "      <td>(366232.418, 8710976.3112, 3508.6551)</td>\n",
       "    </tr>\n",
       "  </tbody>\n",
       "</table>\n",
       "</div>"
      ],
      "text/plain": [
       "   est            x             y          z des  \\\n",
       "0  R17  366227.7474  8.710953e+06  3508.3157  PP   \n",
       "1    1  366232.5783  8.710981e+06  3508.6108   L   \n",
       "2    2  366232.5687  8.710979e+06  3508.6680   L   \n",
       "3    3  366232.4063  8.710977e+06  3508.6655   L   \n",
       "4    4  366232.4180  8.710976e+06  3508.6551   L   \n",
       "\n",
       "                                 xy  \\\n",
       "0  (366227.7474, 8710952.944299998)   \n",
       "1       (366232.5783, 8710980.8992)   \n",
       "2       (366232.5687, 8710979.0821)   \n",
       "3       (366232.4063, 8710977.0599)   \n",
       "4        (366232.418, 8710976.3112)   \n",
       "\n",
       "                                           xyz  \n",
       "0  (366227.7474, 8710952.944299998, 3508.3157)  \n",
       "1       (366232.5783, 8710980.8992, 3508.6108)  \n",
       "2        (366232.5687, 8710979.0821, 3508.668)  \n",
       "3       (366232.4063, 8710977.0599, 3508.6655)  \n",
       "4        (366232.418, 8710976.3112, 3508.6551)  "
      ]
     },
     "execution_count": 40,
     "metadata": {},
     "output_type": "execute_result"
    }
   ],
   "source": [
    "import ezdxf\n",
    "import pandas as pd\n",
    "from ezdxf import zoom\n",
    "\n",
    "file_name='NV-19A.MD-MOD'\n",
    "df=pd.read_csv(f'{file_name}.CSV', usecols=[0,1,2,3,4], names=[\"est\", \"x\", \"y\", \"z\", \"des\"], header=None)\n",
    "df['xy']=df.apply(lambda j: (j['x'],j['y']),axis=1)\n",
    "df['xyz']=df.apply(lambda j: (j['x'],j['y'],j['z']),axis=1)\n",
    "df.head()"
   ]
  },
  {
   "cell_type": "code",
   "execution_count": 41,
   "metadata": {},
   "outputs": [
    {
     "data": {
      "text/html": [
       "<div>\n",
       "<style scoped>\n",
       "    .dataframe tbody tr th:only-of-type {\n",
       "        vertical-align: middle;\n",
       "    }\n",
       "\n",
       "    .dataframe tbody tr th {\n",
       "        vertical-align: top;\n",
       "    }\n",
       "\n",
       "    .dataframe thead th {\n",
       "        text-align: right;\n",
       "    }\n",
       "</style>\n",
       "<table border=\"1\" class=\"dataframe\">\n",
       "  <thead>\n",
       "    <tr style=\"text-align: right;\">\n",
       "      <th></th>\n",
       "      <th>des</th>\n",
       "      <th>xyz</th>\n",
       "    </tr>\n",
       "  </thead>\n",
       "  <tbody>\n",
       "    <tr>\n",
       "      <th>0</th>\n",
       "      <td>L</td>\n",
       "      <td>(366232.5783, 8710980.8992, 3508.6108)</td>\n",
       "    </tr>\n",
       "    <tr>\n",
       "      <th>1</th>\n",
       "      <td>L</td>\n",
       "      <td>(366232.5687, 8710979.0821, 3508.668)</td>\n",
       "    </tr>\n",
       "    <tr>\n",
       "      <th>2</th>\n",
       "      <td>L</td>\n",
       "      <td>(366232.4063, 8710977.0599, 3508.6655)</td>\n",
       "    </tr>\n",
       "    <tr>\n",
       "      <th>3</th>\n",
       "      <td>L</td>\n",
       "      <td>(366232.418, 8710976.3112, 3508.6551)</td>\n",
       "    </tr>\n",
       "    <tr>\n",
       "      <th>4</th>\n",
       "      <td>L</td>\n",
       "      <td>(366231.809, 8710972.674699998, 3508.6026)</td>\n",
       "    </tr>\n",
       "    <tr>\n",
       "      <th>...</th>\n",
       "      <td>...</td>\n",
       "      <td>...</td>\n",
       "    </tr>\n",
       "    <tr>\n",
       "      <th>71</th>\n",
       "      <td>L</td>\n",
       "      <td>(366231.1747, 8710962.402699998, 3488.3921)</td>\n",
       "    </tr>\n",
       "    <tr>\n",
       "      <th>72</th>\n",
       "      <td>L</td>\n",
       "      <td>(366231.2973, 8710962.193299998, 3488.2157)</td>\n",
       "    </tr>\n",
       "    <tr>\n",
       "      <th>73</th>\n",
       "      <td>L</td>\n",
       "      <td>(366230.8326, 8710958.9441, 3488.2474)</td>\n",
       "    </tr>\n",
       "    <tr>\n",
       "      <th>74</th>\n",
       "      <td>L</td>\n",
       "      <td>(366231.0098, 8710957.5388, 3488.1657)</td>\n",
       "    </tr>\n",
       "    <tr>\n",
       "      <th>75</th>\n",
       "      <td>L</td>\n",
       "      <td>(366230.9216, 8710957.2773, 3488.1395)</td>\n",
       "    </tr>\n",
       "  </tbody>\n",
       "</table>\n",
       "<p>76 rows × 2 columns</p>\n",
       "</div>"
      ],
      "text/plain": [
       "   des                                          xyz\n",
       "0    L       (366232.5783, 8710980.8992, 3508.6108)\n",
       "1    L        (366232.5687, 8710979.0821, 3508.668)\n",
       "2    L       (366232.4063, 8710977.0599, 3508.6655)\n",
       "3    L        (366232.418, 8710976.3112, 3508.6551)\n",
       "4    L   (366231.809, 8710972.674699998, 3508.6026)\n",
       "..  ..                                          ...\n",
       "71   L  (366231.1747, 8710962.402699998, 3488.3921)\n",
       "72   L  (366231.2973, 8710962.193299998, 3488.2157)\n",
       "73   L       (366230.8326, 8710958.9441, 3488.2474)\n",
       "74   L       (366231.0098, 8710957.5388, 3488.1657)\n",
       "75   L       (366230.9216, 8710957.2773, 3488.1395)\n",
       "\n",
       "[76 rows x 2 columns]"
      ]
     },
     "execution_count": 41,
     "metadata": {},
     "output_type": "execute_result"
    }
   ],
   "source": [
    "cases = ['L','L1','L2','L3','T','P']\n",
    "filt = df['des'].isin(cases)\n",
    "df_ltp = df.loc[filt,['des','xyz']]\n",
    "df_ltp.reset_index(drop=True, inplace=True)\n",
    "df_ltp"
   ]
  },
  {
   "cell_type": "code",
   "execution_count": 42,
   "metadata": {},
   "outputs": [
    {
     "data": {
      "text/plain": [
       "'L'"
      ]
     },
     "execution_count": 42,
     "metadata": {},
     "output_type": "execute_result"
    }
   ],
   "source": [
    "df_ltp['des'][1]"
   ]
  },
  {
   "cell_type": "code",
   "execution_count": 43,
   "metadata": {},
   "outputs": [
    {
     "data": {
      "text/plain": [
       "dict_keys(['L', 'L2', 'L3', 'T'])"
      ]
     },
     "execution_count": 43,
     "metadata": {},
     "output_type": "execute_result"
    }
   ],
   "source": [
    "#Group dataframe by 'des'\n",
    "grouped=df_ltp.groupby('des')\n",
    "grouped.groups.keys()"
   ]
  },
  {
   "cell_type": "code",
   "execution_count": 44,
   "metadata": {},
   "outputs": [
    {
     "data": {
      "text/plain": [
       "<class 'ezdxf.entities.layer.Layer'> LAYER(#8E)"
      ]
     },
     "execution_count": 44,
     "metadata": {},
     "output_type": "execute_result"
    }
   ],
   "source": [
    "doc=ezdxf.new(dxfversion='R2000', setup=True)\n",
    "msp=doc.modelspace()\n",
    "doc.layers.new(name='L', dxfattribs={'color':1})\n",
    "doc.layers.new(name='L1', dxfattribs={'color':2})\n",
    "doc.layers.new(name='L2', dxfattribs={'color':5})\n",
    "doc.layers.new(name='L3', dxfattribs={'color':6})\n",
    "doc.layers.new(name='T', dxfattribs={'color':181})\n",
    "doc.layers.new(name='P', dxfattribs={'color':7})"
   ]
  },
  {
   "cell_type": "code",
   "execution_count": 45,
   "metadata": {},
   "outputs": [
    {
     "name": "stdout",
     "output_type": "stream",
     "text": [
      "[0, 16, 30, 45, 60]\n"
     ]
    }
   ],
   "source": [
    "#find start : end of sections\n",
    "\n",
    "ltp_list = df_ltp['des'].tolist()\n",
    "\n",
    "idx=[]\n",
    "jo = 7777\n",
    "vo = 'any'\n",
    "\n",
    "for i,v in enumerate(ltp_list):\n",
    "    if v!=vo:\n",
    "        idx=idx+[i]\n",
    "        jo=i\n",
    "        vo=v\n",
    "\n",
    "print(idx)\n",
    "\n",
    "from pprint import pprint\n",
    "\n",
    "for i in range(len(idx)):\n",
    "    if i < len(idx)-1:\n",
    "        points = df_ltp['xyz'][idx[i]:idx[i+1]].tolist()\n",
    "        msp.add_polyline3d(points=points, close=False, dxfattribs={'layer':df_ltp['des'][idx[i]]})\n",
    "        #pprint(points)\n",
    "    else:\n",
    "        points = df_ltp['xyz'][idx[i]:].tolist()\n",
    "        #pprint(points)\n",
    "        msp.add_polyline3d(points=points, close=False, dxfattribs={'layer':df_ltp['des'][idx[i]]})\n",
    "\n",
    "zoom.extents(msp)\n",
    "doc.saveas('ltp.dxf')"
   ]
  },
  {
   "cell_type": "code",
   "execution_count": 46,
   "metadata": {},
   "outputs": [],
   "source": [
    "#0,4,7,9\n",
    "#test_list=[1,2,3,4,1,2,3,1,2,1,2,3,4,5,6,7]\n",
    "#test_list=[1,2,3,4]\n",
    "\n",
    "test_list = ['L','L','L','P','P','L1','L1','L1','L1','T','L','L','L3']\n",
    "#test_list = ['L','L','L']"
   ]
  },
  {
   "cell_type": "code",
   "execution_count": 47,
   "metadata": {},
   "outputs": [
    {
     "data": {
      "text/plain": [
       "[0, 3, 5, 9, 10, 12]"
      ]
     },
     "execution_count": 47,
     "metadata": {},
     "output_type": "execute_result"
    }
   ],
   "source": [
    "idx=[]\n",
    "jo = 7777\n",
    "vo = 'any'\n",
    "\n",
    "for i,v in enumerate(test_list):\n",
    "    if v!=vo:\n",
    "        idx=idx+[i]\n",
    "        jo=i\n",
    "        vo=v\n",
    "idx        "
   ]
  },
  {
   "cell_type": "code",
   "execution_count": 48,
   "metadata": {},
   "outputs": [
    {
     "name": "stdout",
     "output_type": "stream",
     "text": [
      "['L', 'L', 'L']\n",
      "['P', 'P']\n",
      "['L1', 'L1', 'L1', 'L1']\n",
      "['T']\n",
      "['L', 'L']\n",
      "['L3']\n"
     ]
    }
   ],
   "source": [
    "for i in range(len(idx)):\n",
    "    if i < len(idx)-1:\n",
    "        print(test_list[idx[i]:idx[i+1]])\n",
    "    else:\n",
    "        print(test_list[idx[i]:])\n"
   ]
  }
 ],
 "metadata": {
  "interpreter": {
   "hash": "205078fc0425b498c09cbfb6581f1913178c5081fd791ed378bcdb5df6f847ae"
  },
  "kernelspec": {
   "display_name": "Python 3.9.9 64-bit ('venv': venv)",
   "language": "python",
   "name": "python3"
  },
  "language_info": {
   "codemirror_mode": {
    "name": "ipython",
    "version": 3
   },
   "file_extension": ".py",
   "mimetype": "text/x-python",
   "name": "python",
   "nbconvert_exporter": "python",
   "pygments_lexer": "ipython3",
   "version": "3.9.9"
  },
  "orig_nbformat": 4
 },
 "nbformat": 4,
 "nbformat_minor": 2
}
