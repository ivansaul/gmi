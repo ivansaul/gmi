{
 "cells": [
  {
   "cell_type": "markdown",
   "metadata": {},
   "source": [
    "# **Draw sections**"
   ]
  },
  {
   "cell_type": "code",
   "execution_count": 1,
   "metadata": {},
   "outputs": [
    {
     "data": {
      "text/html": [
       "<div>\n",
       "<style scoped>\n",
       "    .dataframe tbody tr th:only-of-type {\n",
       "        vertical-align: middle;\n",
       "    }\n",
       "\n",
       "    .dataframe tbody tr th {\n",
       "        vertical-align: top;\n",
       "    }\n",
       "\n",
       "    .dataframe thead th {\n",
       "        text-align: right;\n",
       "    }\n",
       "</style>\n",
       "<table border=\"1\" class=\"dataframe\">\n",
       "  <thead>\n",
       "    <tr style=\"text-align: right;\">\n",
       "      <th></th>\n",
       "      <th>est</th>\n",
       "      <th>x</th>\n",
       "      <th>y</th>\n",
       "      <th>z</th>\n",
       "      <th>des</th>\n",
       "      <th>xy</th>\n",
       "      <th>xyz</th>\n",
       "    </tr>\n",
       "  </thead>\n",
       "  <tbody>\n",
       "    <tr>\n",
       "      <th>1</th>\n",
       "      <td>P99</td>\n",
       "      <td>366386.2540</td>\n",
       "      <td>8.710984e+06</td>\n",
       "      <td>3566.3281</td>\n",
       "      <td>PP</td>\n",
       "      <td>(366386.254, 8710983.8783)</td>\n",
       "      <td>(366386.254, 8710983.8783, 3566.3281)</td>\n",
       "    </tr>\n",
       "    <tr>\n",
       "      <th>2</th>\n",
       "      <td>P100</td>\n",
       "      <td>366380.5968</td>\n",
       "      <td>8.710984e+06</td>\n",
       "      <td>3565.9172</td>\n",
       "      <td>PP</td>\n",
       "      <td>(366380.5968, 8710984.2406)</td>\n",
       "      <td>(366380.5968, 8710984.2406, 3565.9172)</td>\n",
       "    </tr>\n",
       "    <tr>\n",
       "      <th>3</th>\n",
       "      <td>1</td>\n",
       "      <td>366387.5172</td>\n",
       "      <td>8.710988e+06</td>\n",
       "      <td>3570.0157</td>\n",
       "      <td>T</td>\n",
       "      <td>(366387.5172, 8710988.0704)</td>\n",
       "      <td>(366387.5172, 8710988.0704, 3570.0157)</td>\n",
       "    </tr>\n",
       "    <tr>\n",
       "      <th>4</th>\n",
       "      <td>2</td>\n",
       "      <td>366386.4586</td>\n",
       "      <td>8.710987e+06</td>\n",
       "      <td>3569.8995</td>\n",
       "      <td>T</td>\n",
       "      <td>(366386.4586, 8710986.865)</td>\n",
       "      <td>(366386.4586, 8710986.865, 3569.8995)</td>\n",
       "    </tr>\n",
       "    <tr>\n",
       "      <th>5</th>\n",
       "      <td>3</td>\n",
       "      <td>366385.6641</td>\n",
       "      <td>8.710986e+06</td>\n",
       "      <td>3569.8092</td>\n",
       "      <td>T</td>\n",
       "      <td>(366385.6641, 8710985.9608)</td>\n",
       "      <td>(366385.6641, 8710985.9608, 3569.8092)</td>\n",
       "    </tr>\n",
       "  </tbody>\n",
       "</table>\n",
       "</div>"
      ],
      "text/plain": [
       "    est            x             y          z des  \\\n",
       "1   P99  366386.2540  8.710984e+06  3566.3281  PP   \n",
       "2  P100  366380.5968  8.710984e+06  3565.9172  PP   \n",
       "3     1  366387.5172  8.710988e+06  3570.0157   T   \n",
       "4     2  366386.4586  8.710987e+06  3569.8995   T   \n",
       "5     3  366385.6641  8.710986e+06  3569.8092   T   \n",
       "\n",
       "                            xy                                     xyz  \n",
       "1   (366386.254, 8710983.8783)   (366386.254, 8710983.8783, 3566.3281)  \n",
       "2  (366380.5968, 8710984.2406)  (366380.5968, 8710984.2406, 3565.9172)  \n",
       "3  (366387.5172, 8710988.0704)  (366387.5172, 8710988.0704, 3570.0157)  \n",
       "4   (366386.4586, 8710986.865)   (366386.4586, 8710986.865, 3569.8995)  \n",
       "5  (366385.6641, 8710985.9608)  (366385.6641, 8710985.9608, 3569.8092)  "
      ]
     },
     "execution_count": 1,
     "metadata": {},
     "output_type": "execute_result"
    }
   ],
   "source": [
    "import ezdxf\n",
    "import pandas as pd\n",
    "from ezdxf import zoom\n",
    "\n",
    "file_name='NV-22.MD'\n",
    "df=pd.read_csv(f'{file_name}.CSV', usecols=[0,1,2,3,4], names=[\"est\", \"x\", \"y\", \"z\", \"des\"], header=None)\n",
    "df.dropna(inplace=True)\n",
    "df.drop_duplicates(inplace=True)\n",
    "\n",
    "df['des']=df['des'].str.upper()\n",
    "df['xy']=df.apply(lambda j: (j['x'],j['y']),axis=1)\n",
    "df['xyz']=df.apply(lambda j: (j['x'],j['y'],j['z']),axis=1)\n",
    "df.head()"
   ]
  },
  {
   "cell_type": "code",
   "execution_count": 2,
   "metadata": {},
   "outputs": [
    {
     "data": {
      "text/html": [
       "<div>\n",
       "<style scoped>\n",
       "    .dataframe tbody tr th:only-of-type {\n",
       "        vertical-align: middle;\n",
       "    }\n",
       "\n",
       "    .dataframe tbody tr th {\n",
       "        vertical-align: top;\n",
       "    }\n",
       "\n",
       "    .dataframe thead th {\n",
       "        text-align: right;\n",
       "    }\n",
       "</style>\n",
       "<table border=\"1\" class=\"dataframe\">\n",
       "  <thead>\n",
       "    <tr style=\"text-align: right;\">\n",
       "      <th></th>\n",
       "      <th>est</th>\n",
       "      <th>xyz</th>\n",
       "      <th>des</th>\n",
       "    </tr>\n",
       "  </thead>\n",
       "  <tbody>\n",
       "    <tr>\n",
       "      <th>69</th>\n",
       "      <td>1</td>\n",
       "      <td>(366373.8955, 8710960.4465, 3561.9565)</td>\n",
       "      <td>SEC</td>\n",
       "    </tr>\n",
       "    <tr>\n",
       "      <th>70</th>\n",
       "      <td>2</td>\n",
       "      <td>(366376.2982, 8710960.1128, 3561.9521)</td>\n",
       "      <td>SEC</td>\n",
       "    </tr>\n",
       "    <tr>\n",
       "      <th>71</th>\n",
       "      <td>3</td>\n",
       "      <td>(366376.2057, 8710961.5415, 3563.8415)</td>\n",
       "      <td>SEC</td>\n",
       "    </tr>\n",
       "    <tr>\n",
       "      <th>72</th>\n",
       "      <td>4</td>\n",
       "      <td>(366376.0909, 8710962.0159, 3564.7887)</td>\n",
       "      <td>SEC</td>\n",
       "    </tr>\n",
       "    <tr>\n",
       "      <th>73</th>\n",
       "      <td>5</td>\n",
       "      <td>(366375.1325, 8710954.5733, 3565.1605)</td>\n",
       "      <td>SEC</td>\n",
       "    </tr>\n",
       "    <tr>\n",
       "      <th>...</th>\n",
       "      <td>...</td>\n",
       "      <td>...</td>\n",
       "      <td>...</td>\n",
       "    </tr>\n",
       "    <tr>\n",
       "      <th>217</th>\n",
       "      <td>11</td>\n",
       "      <td>(366386.7412, 8710985.1303, 3569.8054)</td>\n",
       "      <td>SEC</td>\n",
       "    </tr>\n",
       "    <tr>\n",
       "      <th>218</th>\n",
       "      <td>12</td>\n",
       "      <td>(366386.9336, 8710984.9168, 3569.8054)</td>\n",
       "      <td>SEC</td>\n",
       "    </tr>\n",
       "    <tr>\n",
       "      <th>219</th>\n",
       "      <td>13</td>\n",
       "      <td>(366387.2341, 8710985.1805, 3568.3749)</td>\n",
       "      <td>SEC</td>\n",
       "    </tr>\n",
       "    <tr>\n",
       "      <th>220</th>\n",
       "      <td>14</td>\n",
       "      <td>(366387.2338, 8710985.1817, 3568.357)</td>\n",
       "      <td>SEC</td>\n",
       "    </tr>\n",
       "    <tr>\n",
       "      <th>221</th>\n",
       "      <td>15</td>\n",
       "      <td>(366387.6353, 8710985.5836, 3565.9827)</td>\n",
       "      <td>SEC</td>\n",
       "    </tr>\n",
       "  </tbody>\n",
       "</table>\n",
       "<p>153 rows × 3 columns</p>\n",
       "</div>"
      ],
      "text/plain": [
       "    est                                     xyz  des\n",
       "69    1  (366373.8955, 8710960.4465, 3561.9565)  SEC\n",
       "70    2  (366376.2982, 8710960.1128, 3561.9521)  SEC\n",
       "71    3  (366376.2057, 8710961.5415, 3563.8415)  SEC\n",
       "72    4  (366376.0909, 8710962.0159, 3564.7887)  SEC\n",
       "73    5  (366375.1325, 8710954.5733, 3565.1605)  SEC\n",
       "..   ..                                     ...  ...\n",
       "217  11  (366386.7412, 8710985.1303, 3569.8054)  SEC\n",
       "218  12  (366386.9336, 8710984.9168, 3569.8054)  SEC\n",
       "219  13  (366387.2341, 8710985.1805, 3568.3749)  SEC\n",
       "220  14   (366387.2338, 8710985.1817, 3568.357)  SEC\n",
       "221  15  (366387.6353, 8710985.5836, 3565.9827)  SEC\n",
       "\n",
       "[153 rows x 3 columns]"
      ]
     },
     "execution_count": 2,
     "metadata": {},
     "output_type": "execute_result"
    }
   ],
   "source": [
    "#Select only sections\n",
    "filt = (df['des']=='SEC')\n",
    "df_sec= df[filt][['est','xyz','des']]\n",
    "df_sec"
   ]
  },
  {
   "cell_type": "code",
   "execution_count": 3,
   "metadata": {},
   "outputs": [
    {
     "data": {
      "text/plain": [
       "<class 'ezdxf.entities.layer.Layer'> LAYER(#89)"
      ]
     },
     "execution_count": 3,
     "metadata": {},
     "output_type": "execute_result"
    }
   ],
   "source": [
    "doc=ezdxf.new(dxfversion='R2000', setup=True)\n",
    "msp=doc.modelspace()\n",
    "doc.layers.new(name='SEC', dxfattribs={'color':3})"
   ]
  },
  {
   "cell_type": "code",
   "execution_count": 4,
   "metadata": {},
   "outputs": [
    {
     "name": "stdout",
     "output_type": "stream",
     "text": [
      "[0, 13, 30, 48, 65, 80, 107, 122, 138]\n",
      "0\n",
      "1\n",
      "2\n",
      "3\n",
      "4\n",
      "5\n",
      "6\n",
      "7\n",
      "8\n"
     ]
    }
   ],
   "source": [
    "#find start : end of sections\n",
    "\n",
    "est_list = df_sec['est'].tolist()\n",
    "est_list = [int(x) for x in est_list]\n",
    "\n",
    "idx=[]\n",
    "for i,v in enumerate(est_list):\n",
    "    if v==1:\n",
    "        idx=idx+[i]\n",
    "\n",
    "print(idx)\n",
    "\n",
    "from pprint import pprint\n",
    "\n",
    "for i in range(len(idx)):\n",
    "    print(i)\n",
    "    if i < len(idx)-1:\n",
    "        points = df_sec['xyz'][idx[i]:idx[i+1]].tolist()\n",
    "        msp.add_polyline3d(points=points, close=True, dxfattribs={'layer':'SEC'})\n",
    "        #pprint(points)\n",
    "    else:\n",
    "        points = df_sec['xyz'][idx[i]:].tolist()\n",
    "        #pprint(points)\n",
    "        msp.add_polyline3d(points=points, close=True, dxfattribs={'layer':'SEC'})\n",
    "\n",
    "zoom.extents(msp)\n",
    "doc.saveas('sec2.dxf')"
   ]
  },
  {
   "cell_type": "code",
   "execution_count": 5,
   "metadata": {},
   "outputs": [],
   "source": [
    "#0,4,7,9\n",
    "#test_list=[1,2,3,4,1,2,3,1,2,1,2,3,4,5,6,7]\n",
    "test_list=[1,2,3,4]"
   ]
  },
  {
   "cell_type": "code",
   "execution_count": 6,
   "metadata": {},
   "outputs": [
    {
     "data": {
      "text/plain": [
       "[0]"
      ]
     },
     "execution_count": 6,
     "metadata": {},
     "output_type": "execute_result"
    }
   ],
   "source": [
    "idx=[]\n",
    "for i,v in enumerate(test_list):\n",
    "    if v==1:\n",
    "        idx=idx+[i]\n",
    "idx        "
   ]
  },
  {
   "cell_type": "code",
   "execution_count": 7,
   "metadata": {},
   "outputs": [
    {
     "name": "stdout",
     "output_type": "stream",
     "text": [
      "0\n"
     ]
    }
   ],
   "source": [
    "for i in range(len(idx)):\n",
    "    if i < len(idx)-1:\n",
    "        print(idx[i],idx[i+1])\n",
    "    else:\n",
    "        print(idx[i])"
   ]
  },
  {
   "cell_type": "code",
   "execution_count": 8,
   "metadata": {},
   "outputs": [
    {
     "data": {
      "text/plain": [
       "[[1, 2, 3, 4]]"
      ]
     },
     "execution_count": 8,
     "metadata": {},
     "output_type": "execute_result"
    }
   ],
   "source": [
    "res=[]\n",
    "for i in range(len(idx)):\n",
    "    if i < len(idx)-1:\n",
    "        res.append(test_list[idx[i]:idx[i+1]])\n",
    "    else:\n",
    "        res.append(test_list[idx[i]:])\n",
    "\n",
    "res"
   ]
  },
  {
   "cell_type": "code",
   "execution_count": 9,
   "metadata": {},
   "outputs": [
    {
     "name": "stdout",
     "output_type": "stream",
     "text": [
      "[1, 2, 3, 4]\n"
     ]
    }
   ],
   "source": [
    "for i in range(len(idx)):\n",
    "    if i < len(idx)-1:\n",
    "        print(test_list[idx[i]:idx[i+1]])\n",
    "    else:\n",
    "        print(test_list[idx[i]:])\n"
   ]
  }
 ],
 "metadata": {
  "interpreter": {
   "hash": "205078fc0425b498c09cbfb6581f1913178c5081fd791ed378bcdb5df6f847ae"
  },
  "kernelspec": {
   "display_name": "Python 3.9.9 64-bit ('venv': venv)",
   "language": "python",
   "name": "python3"
  },
  "language_info": {
   "codemirror_mode": {
    "name": "ipython",
    "version": 3
   },
   "file_extension": ".py",
   "mimetype": "text/x-python",
   "name": "python",
   "nbconvert_exporter": "python",
   "pygments_lexer": "ipython3",
   "version": "3.9.9"
  },
  "orig_nbformat": 4
 },
 "nbformat": 4,
 "nbformat_minor": 2
}
